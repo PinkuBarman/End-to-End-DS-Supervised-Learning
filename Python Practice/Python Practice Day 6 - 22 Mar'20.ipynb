{
 "cells": [
  {
   "cell_type": "code",
   "execution_count": 6,
   "metadata": {},
   "outputs": [
    {
     "data": {
      "text/plain": [
       "'How aab you doing?'"
      ]
     },
     "execution_count": 6,
     "metadata": {},
     "output_type": "execute_result"
    }
   ],
   "source": [
    "# Changing Strings\n",
    "'''Strings are immutable which cannot be changed in-place directly. To make a new text value from an\n",
    "existing string, you construct a new string with operations such as slicing and concatenation.'''\n",
    "\n",
    "s = 'How are you doing?' # Replace 're' with 'ab'\n",
    "\n",
    "s = s[:5]+'ab'+s[7:]\n",
    "s"
   ]
  },
  {
   "cell_type": "code",
   "execution_count": 8,
   "metadata": {},
   "outputs": [
    {
     "data": {
      "text/plain": [
       "'How aab you doing?'"
      ]
     },
     "execution_count": 8,
     "metadata": {},
     "output_type": "execute_result"
    }
   ],
   "source": [
    "# If we want to replace just a substring we can use the replace method.\n",
    "s.replace('re','ab')\n",
    "s"
   ]
  },
  {
   "cell_type": "code",
   "execution_count": 10,
   "metadata": {},
   "outputs": [
    {
     "data": {
      "text/plain": [
       "8"
      ]
     },
     "execution_count": 10,
     "metadata": {},
     "output_type": "execute_result"
    }
   ],
   "source": [
    "# Inorder to know the offset of the substring in a string , we make use of 'find' method\n",
    "str_find = s.find('you')\n",
    "str_find\n",
    "# This implies 'you' substring is at index 8."
   ]
  },
  {
   "cell_type": "code",
   "execution_count": 12,
   "metadata": {},
   "outputs": [
    {
     "data": {
      "text/plain": [
       "'Sunny weather nowdays'"
      ]
     },
     "execution_count": 12,
     "metadata": {},
     "output_type": "execute_result"
    }
   ],
   "source": [
    "'''If we want to combine mutliple strings together in a list( about which we are going to learn in\n",
    "next section) we make use of 'join' keyword.'''\n",
    "\n",
    "lst = ['Sunny','weather','nowdays']\n",
    "join_str = ' '.join(lst)\n",
    "join_str\n",
    "\n",
    "# 'join' method makes use of separators like either ',' ,';',' ' and so on to combine strings"
   ]
  },
  {
   "cell_type": "code",
   "execution_count": 17,
   "metadata": {},
   "outputs": [
    {
     "name": "stdout",
     "output_type": "stream",
     "text": [
      "Welcome to Supervised Learning\n",
      "['Welcome', 'to', 'Supervised', 'Learning']\n"
     ]
    }
   ],
   "source": [
    "# The opposite of 'join' method is the 'split' method use to split the string\n",
    "splt_string = 'Welcome to Supervised Learning'\n",
    "print(splt_string)\n",
    "splt_string = splt_string.split()\n",
    "print(splt_string)\n",
    "# This method splits strings by space in the above example"
   ]
  },
  {
   "cell_type": "code",
   "execution_count": 19,
   "metadata": {},
   "outputs": [
    {
     "data": {
      "text/plain": [
       "\"Let's being the python tutorial\""
      ]
     },
     "execution_count": 19,
     "metadata": {},
     "output_type": "execute_result"
    }
   ],
   "source": [
    "# Other string methods\n",
    "str = 'Let\\'s being the python tutorial  '\n",
    "str.rstrip() # it truncates any spaces present on the right-hand side of a string"
   ]
  },
  {
   "cell_type": "code",
   "execution_count": 34,
   "metadata": {},
   "outputs": [
    {
     "data": {
      "text/plain": [
       "\"Let's being the python tutorial\""
      ]
     },
     "execution_count": 34,
     "metadata": {},
     "output_type": "execute_result"
    }
   ],
   "source": [
    "# Other string methods\n",
    "str = 'Let\\'s being the python tutorial'\n",
    "str.strip() # it truncates any spaces present on both sides of a string"
   ]
  },
  {
   "cell_type": "code",
   "execution_count": 24,
   "metadata": {},
   "outputs": [
    {
     "data": {
      "text/plain": [
       "\" LET'S BEING THE PYTHON TUTORIAL  \""
      ]
     },
     "execution_count": 24,
     "metadata": {},
     "output_type": "execute_result"
    }
   ],
   "source": [
    "str.upper() # Converts string to uppercase"
   ]
  },
  {
   "cell_type": "code",
   "execution_count": 26,
   "metadata": {},
   "outputs": [
    {
     "data": {
      "text/plain": [
       "False"
      ]
     },
     "execution_count": 26,
     "metadata": {},
     "output_type": "execute_result"
    }
   ],
   "source": [
    "str.isalpha() # this string returns method as False as there are spaces present in them"
   ]
  },
  {
   "cell_type": "code",
   "execution_count": 33,
   "metadata": {},
   "outputs": [
    {
     "data": {
      "text/plain": [
       "False"
      ]
     },
     "execution_count": 33,
     "metadata": {},
     "output_type": "execute_result"
    }
   ],
   "source": [
    "str.endswith('ri') # method checks with the string ends with the substring "
   ]
  },
  {
   "cell_type": "code",
   "execution_count": 36,
   "metadata": {},
   "outputs": [
    {
     "data": {
      "text/plain": [
       "True"
      ]
     },
     "execution_count": 36,
     "metadata": {},
     "output_type": "execute_result"
    }
   ],
   "source": [
    "str.startswith('Le') # checks if the string starts with the substring"
   ]
  },
  {
   "cell_type": "code",
   "execution_count": 65,
   "metadata": {},
   "outputs": [
    {
     "name": "stdout",
     "output_type": "stream",
     "text": [
      " This document will help you to explore all the concepts of Python Strings!!! \n"
     ]
    }
   ],
   "source": [
    "String_var = \"\"\" This document will help you to explore all the concepts of Python Strings!!! \"\"\"\n",
    "print(String_var)\n",
    "\n",
    "# Result of slicing a string print(String_var[7:-4])\n",
    "# Replace 'document' with 'task' in above string\n",
    "# Split the string with space\n",
    "# Convert the entire string to lowercase\n",
    "# Remove all special characters and retain only text in the string.\n",
    "# Check whether the string isalpha()\n",
    "# Check whether the string endswith character 'S'.\n",
    "\n"
   ]
  },
  {
   "cell_type": "code",
   "execution_count": 43,
   "metadata": {},
   "outputs": [
    {
     "name": "stdout",
     "output_type": "stream",
     "text": [
      "ocument will help you to explore all the concepts of Python Strings\n"
     ]
    }
   ],
   "source": [
    "# Result of slicing a string print(String_var[7:-4])\n",
    "\n",
    "print(String_var[7:-4])"
   ]
  },
  {
   "cell_type": "code",
   "execution_count": 46,
   "metadata": {},
   "outputs": [
    {
     "data": {
      "text/plain": [
       "' This task will help you to explore all the concepts of Python Strings!!! '"
      ]
     },
     "execution_count": 46,
     "metadata": {},
     "output_type": "execute_result"
    }
   ],
   "source": [
    "# Replace 'document' with 'task' in above string\n",
    "\n",
    "String_var.replace(\"document\",\"task\")"
   ]
  },
  {
   "cell_type": "code",
   "execution_count": 60,
   "metadata": {},
   "outputs": [
    {
     "name": "stdout",
     "output_type": "stream",
     "text": [
      "['', 'This', 'document', 'will', 'help', 'you', 'to', 'explore', 'all', 'the', 'concepts', 'of', 'Python', 'Strings!!!', '']\n"
     ]
    }
   ],
   "source": [
    "# Split the string with space\n",
    "\n",
    "print(String_var.split(' '))\n"
   ]
  },
  {
   "cell_type": "code",
   "execution_count": 62,
   "metadata": {},
   "outputs": [
    {
     "data": {
      "text/plain": [
       "' this document will help you to explore all the concepts of python strings!!! '"
      ]
     },
     "execution_count": 62,
     "metadata": {},
     "output_type": "execute_result"
    }
   ],
   "source": [
    "# Convert the entire string to lowercase\n",
    "\n",
    "String_var.lower()"
   ]
  },
  {
   "cell_type": "code",
   "execution_count": 73,
   "metadata": {},
   "outputs": [
    {
     "name": "stdout",
     "output_type": "stream",
     "text": [
      "This document will help you to explore all the concepts of Python Strings\n"
     ]
    }
   ],
   "source": [
    "# Remove all special characters and retain only text in the string.\n",
    "String_var_1 = String_var.replace('!','').strip()\n",
    "print(String_var_1)"
   ]
  },
  {
   "cell_type": "code",
   "execution_count": 74,
   "metadata": {},
   "outputs": [
    {
     "data": {
      "text/plain": [
       "False"
      ]
     },
     "execution_count": 74,
     "metadata": {},
     "output_type": "execute_result"
    }
   ],
   "source": [
    "# Check whether the string isalpha()\n",
    "\n",
    "String_var_1.isalpha()"
   ]
  },
  {
   "cell_type": "code",
   "execution_count": 83,
   "metadata": {},
   "outputs": [
    {
     "data": {
      "text/plain": [
       "False"
      ]
     },
     "execution_count": 83,
     "metadata": {},
     "output_type": "execute_result"
    }
   ],
   "source": [
    "# Check whether the string endswith character 'S'.\n",
    "\n",
    "String_var_1.endswith('s')\n",
    "String_var_1.endswith('S')"
   ]
  },
  {
   "cell_type": "code",
   "execution_count": 100,
   "metadata": {},
   "outputs": [
    {
     "name": "stdout",
     "output_type": "stream",
     "text": [
      "It was a 3 sided match\n"
     ]
    }
   ],
   "source": [
    "### String Formatting Expressions\n",
    "\n",
    "\n",
    "frmt_str = 'It was a %d %s match' % (3, 'sided')\n",
    "print(frmt_str)"
   ]
  },
  {
   "cell_type": "code",
   "execution_count": 103,
   "metadata": {},
   "outputs": [
    {
     "name": "stdout",
     "output_type": "stream",
     "text": [
      "My name is John Travera .He lives in Florida \n"
     ]
    }
   ],
   "source": [
    "str = 'My name is %s .He lives in %s ' %('John Travera', 'Florida')\n",
    "print(str)"
   ]
  },
  {
   "cell_type": "code",
   "execution_count": 1,
   "metadata": {},
   "outputs": [
    {
     "name": "stdout",
     "output_type": "stream",
     "text": [
      "GeeksforGeeks, A computer science portal for geeks.\n"
     ]
    }
   ],
   "source": [
    "# Class Task \n",
    "# Try to find out the various format expressions mostly used.\n",
    "# Apply those format expressions to your own string.\n",
    "\n",
    "# using format option in a simple string \n",
    "print (\"{}, A computer science portal for geeks.\"\n",
    "                        .format(\"GeeksforGeeks\")) "
   ]
  },
  {
   "cell_type": "code",
   "execution_count": 2,
   "metadata": {},
   "outputs": [
    {
     "name": "stdout",
     "output_type": "stream",
     "text": [
      "This article is written in Python\n"
     ]
    }
   ],
   "source": [
    "# value stored in a variable \n",
    "str = \"This article is written in {}\"\n",
    "print (str.format(\"Python\")) "
   ]
  },
  {
   "cell_type": "code",
   "execution_count": 4,
   "metadata": {},
   "outputs": [
    {
     "name": "stdout",
     "output_type": "stream",
     "text": [
      "Hello, I am 18 years old !\n"
     ]
    }
   ],
   "source": [
    "# formatting a string using a numeric constant \n",
    "print (\"Hello, I am {} years old !\".format(18))  "
   ]
  },
  {
   "cell_type": "code",
   "execution_count": 6,
   "metadata": {},
   "outputs": [
    {
     "name": "stdout",
     "output_type": "stream",
     "text": [
      "GeeksforGeeks, is a computer science portal for geeks\n"
     ]
    }
   ],
   "source": [
    "# parameters in format function. \n",
    "my_string = \"{}, is a {} science portal for {}\"\n",
    "  \n",
    "print (my_string.format(\"GeeksforGeeks\", \"computer\", \"geeks\"))"
   ]
  },
  {
   "cell_type": "code",
   "execution_count": 7,
   "metadata": {},
   "outputs": [
    {
     "name": "stdout",
     "output_type": "stream",
     "text": [
      "Negative Number\n"
     ]
    }
   ],
   "source": [
    "### Flow of control\n",
    "\n",
    "# We use If... else condition inorder to check if the condition is True or False .\n",
    "# In the below code we are going to check if the number is positive or negative number.\n",
    "a = -5\n",
    "if a < 0:\n",
    "    print('Negative Number')\n",
    "elif a > 0: \n",
    "    print('Positive Number')\n",
    "else:\n",
    "    print('Zero')"
   ]
  },
  {
   "cell_type": "code",
   "execution_count": 8,
   "metadata": {},
   "outputs": [
    {
     "name": "stdout",
     "output_type": "stream",
     "text": [
      "Positive number\n"
     ]
    }
   ],
   "source": [
    "# Nested If... else\n",
    "# Based on a particular If condition the nested If are processed\n",
    "a = 3\n",
    "if a >= 0:\n",
    "    if a == 0:\n",
    "        print(\"Zero\")\n",
    "    else:\n",
    "        print(\"Positive number\")\n",
    "else:\n",
    "    print(\"Negative number\")"
   ]
  },
  {
   "cell_type": "code",
   "execution_count": 13,
   "metadata": {},
   "outputs": [
    {
     "name": "stdout",
     "output_type": "stream",
     "text": [
      "The weather is okay\n"
     ]
    }
   ],
   "source": [
    "### Class Task\n",
    "\n",
    "### Using if....else statement write a code to print if the temperature in Hyderabad exceeds more than 42 degrees,\" \n",
    "### It is very sunny today\" otherwise \" The weather is okay\".\n",
    "\n",
    "temp = 42\n",
    "if temp>42:\n",
    "    print(\"It is very sunny today\")\n",
    "else:\n",
    "    print(\"The weather is okay\")"
   ]
  },
  {
   "cell_type": "code",
   "execution_count": 11,
   "metadata": {},
   "outputs": [
    {
     "name": "stdout",
     "output_type": "stream",
     "text": [
      "aa\n",
      "ab\n",
      "bb\n",
      "bc\n",
      "cc\n"
     ]
    }
   ],
   "source": [
    "### For loop\n",
    "\n",
    "\n",
    "# General Format:\n",
    "# for <target> in <object>:\n",
    "#     <statements>\n",
    "# else:\n",
    "#     <statements>\n",
    "\n",
    "\n",
    "# For Loop\n",
    "grades = ['aa', 'ab', 'bb', 'bc', 'cc']\n",
    "\n",
    "for grade in range(len(grades)):\n",
    "    print(grades[grade])"
   ]
  },
  {
   "cell_type": "code",
   "execution_count": 15,
   "metadata": {},
   "outputs": [
    {
     "name": "stdout",
     "output_type": "stream",
     "text": [
      "[3, 5, 7, 9]\n"
     ]
    }
   ],
   "source": [
    "# Displays range of numbers from 3 to 10 with an interval of 2\n",
    "print(list(range(3,10,2)))"
   ]
  },
  {
   "cell_type": "code",
   "execution_count": 3,
   "metadata": {},
   "outputs": [
    {
     "name": "stdout",
     "output_type": "stream",
     "text": [
      "0\n",
      "1\n",
      "2\n",
      "Empty.\n"
     ]
    }
   ],
   "source": [
    "## For loop with else\n",
    "### else block would be executed whenever we exit the for loop\n",
    "digits = [0, 1, 2]\n",
    "\n",
    "for i in digits:\n",
    "    print(i)\n",
    "else:\n",
    "    print(\"Empty.\")"
   ]
  },
  {
   "cell_type": "code",
   "execution_count": 10,
   "metadata": {
    "scrolled": true
   },
   "outputs": [
    {
     "name": "stdout",
     "output_type": "stream",
     "text": [
      "0\n",
      "1\n",
      "2\n",
      "3\n",
      "4\n",
      "5\n"
     ]
    }
   ],
   "source": [
    "### Class Task\n",
    "### Try to use various iterators in for loop like range, list, dictionaries and so on.\n",
    "\n",
    "### (i) Using enumerators execute For loop \n",
    "### (ii) Count the index of the for loop using count variable.Also,Compare the above codes and find out the difference between them.\n",
    "\n",
    "### range\n",
    "x = range(6)\n",
    "for n in x:\n",
    "  print(n)\n"
   ]
  },
  {
   "cell_type": "code",
   "execution_count": 11,
   "metadata": {},
   "outputs": [
    {
     "name": "stdout",
     "output_type": "stream",
     "text": [
      "2\n",
      "4\n",
      "6\n",
      "8\n",
      "10\n"
     ]
    }
   ],
   "source": [
    "x = range(2,12,2)\n",
    "for n in x:\n",
    "  print(n)"
   ]
  },
  {
   "cell_type": "code",
   "execution_count": 12,
   "metadata": {},
   "outputs": [
    {
     "name": "stdout",
     "output_type": "stream",
     "text": [
      "1\n",
      "3\n",
      "5\n",
      "7\n",
      "9\n"
     ]
    }
   ],
   "source": [
    "### For loop iterate over a list \n",
    "list = [1, 3, 5, 7, 9] \n",
    "   \n",
    "# Using for loop \n",
    "for i in list: \n",
    "    print(i) "
   ]
  },
  {
   "cell_type": "code",
   "execution_count": 13,
   "metadata": {},
   "outputs": [
    {
     "name": "stdout",
     "output_type": "stream",
     "text": [
      "1\n",
      "3\n",
      "5\n",
      "7\n",
      "9\n"
     ]
    }
   ],
   "source": [
    "# Python3 code to iterate over a list \n",
    "list = [1, 3, 5, 7, 9] \n",
    "   \n",
    "# getting length of list \n",
    "length = len(list) \n",
    "   \n",
    "# Iterating the index \n",
    "# same as 'for i in range(len(list))' \n",
    "for i in range(length): \n",
    "    print(list[i]) "
   ]
  },
  {
   "cell_type": "code",
   "execution_count": 18,
   "metadata": {},
   "outputs": [
    {
     "name": "stdout",
     "output_type": "stream",
     "text": [
      "1\n",
      "3\n",
      "5\n",
      "7\n",
      "9\n"
     ]
    },
    {
     "data": {
      "text/plain": [
       "[None, None, None, None, None]"
      ]
     },
     "execution_count": 18,
     "metadata": {},
     "output_type": "execute_result"
    }
   ],
   "source": [
    "# Python3 code to iterate over a list \n",
    "list = [1, 3, 5, 7, 9] \n",
    "   \n",
    "# Using list comprehension \n",
    "[print(i) for i in list]"
   ]
  },
  {
   "cell_type": "code",
   "execution_count": 24,
   "metadata": {},
   "outputs": [
    {
     "name": "stdout",
     "output_type": "stream",
     "text": [
      "List Of given states:\n",
      "\n",
      "Gujarat\n",
      "Maharashtra\n",
      "Rajasthan\n",
      "Bihar\n"
     ]
    }
   ],
   "source": [
    "# Python3 code to iterate through all keys in a dictionary \n",
    "  \n",
    "statesAndCapitals = { \n",
    "                     'Gujarat' : 'Gandhinagar', \n",
    "                     'Maharashtra' : 'Mumbai', \n",
    "                     'Rajasthan' : 'Jaipur', \n",
    "                     'Bihar' : 'Patna'\n",
    "                    } \n",
    "                      \n",
    "print('List Of given states:\\n') \n",
    "  \n",
    "# Iterating over keys \n",
    "for state in statesAndCapitals: \n",
    "    print(state)"
   ]
  },
  {
   "cell_type": "code",
   "execution_count": 25,
   "metadata": {},
   "outputs": [
    {
     "name": "stdout",
     "output_type": "stream",
     "text": [
      "Red corresponds to  1\n",
      "Green corresponds to  2\n",
      "Blue corresponds to  3\n"
     ]
    }
   ],
   "source": [
    "d = {'Red': 1, 'Green': 2, 'Blue': 3} \n",
    "for color_key, value in d.items():\n",
    "     print(color_key, 'corresponds to ', d[color_key]) "
   ]
  },
  {
   "cell_type": "code",
   "execution_count": null,
   "metadata": {},
   "outputs": [],
   "source": []
  },
  {
   "cell_type": "code",
   "execution_count": 26,
   "metadata": {},
   "outputs": [
    {
     "name": "stdout",
     "output_type": "stream",
     "text": [
      "0 Jan\n",
      "1 Feb\n",
      "2 Mar\n",
      "3 April\n",
      "4 May\n",
      "5 June\n"
     ]
    }
   ],
   "source": [
    "### (i) Using enumerators execute For loop \n",
    "### (ii) Count the index of the for loop using count variable.Also,Compare the above codes and find out the difference between them.\n",
    "\n",
    "Months = [\"Jan\",\"Feb\",\"Mar\",\"April\",\"May\",\"June\"]\n",
    "for i, m in enumerate (Months):\n",
    "    print (i,m) "
   ]
  },
  {
   "cell_type": "code",
   "execution_count": 27,
   "metadata": {},
   "outputs": [
    {
     "name": "stdout",
     "output_type": "stream",
     "text": [
      "President 1: Washington\n",
      "President 2: Adams\n",
      "President 3: Jefferson\n",
      "President 4: Madison\n",
      "President 5: Monroe\n",
      "President 6: Adams\n",
      "President 7: Jackson\n"
     ]
    }
   ],
   "source": [
    "### (ii) Count the index of the for loop using count variable.\n",
    "\n",
    "presidents = [\"Washington\", \"Adams\", \"Jefferson\", \"Madison\", \"Monroe\", \"Adams\", \"Jackson\"]\n",
    "for i in range(len(presidents)):\n",
    "    print(\"President {}: {}\".format(i + 1, presidents[i]))"
   ]
  },
  {
   "cell_type": "code",
   "execution_count": 28,
   "metadata": {},
   "outputs": [
    {
     "name": "stdout",
     "output_type": "stream",
     "text": [
      "1 Washington\n",
      "2 Adams\n",
      "3 Jefferson\n",
      "4 Madison\n",
      "5 Monroe\n",
      "6 Adams\n",
      "7 Jackson\n"
     ]
    }
   ],
   "source": [
    "presidents = [\"Washington\", \"Adams\", \"Jefferson\", \"Madison\", \"Monroe\", \"Adams\", \"Jackson\"]\n",
    "for i in range(len(presidents)):\n",
    "    print(i + 1, presidents[i])"
   ]
  },
  {
   "cell_type": "code",
   "execution_count": 31,
   "metadata": {},
   "outputs": [
    {
     "name": "stdout",
     "output_type": "stream",
     "text": [
      "We have 5 pounds of Gauvas\n",
      "How many ways are we dividing the guavas?0\n",
      " You can't divide by zero. Try again\n"
     ]
    }
   ],
   "source": [
    "### Handling Exceptions\n",
    "\n",
    "# Let's take an example using try-catch Exception.\n",
    "print(\"We have 5 pounds of Gauvas\")\n",
    "number = input(\"How many ways are we dividing the guavas?\")\n",
    "number = int(number)\n",
    "\n",
    "try:\n",
    "    poundsEach = 5/number\n",
    "    print(\"Each person gets\",poundsEach,\"pounds of Guava\")\n",
    "except ZeroDivisionError:\n",
    "    print(\" You can't divide by zero. Try again\")\n",
    "\n",
    "    \n",
    "# While executing program let's enter any other number apart from 0"
   ]
  },
  {
   "cell_type": "code",
   "execution_count": 33,
   "metadata": {},
   "outputs": [
    {
     "name": "stdout",
     "output_type": "stream",
     "text": [
      "We have 5 pounds of Gauvas\n",
      "How many ways are we dividing the guavas?6\n",
      "Each person gets 0.8333333333333334 pounds of Guava\n"
     ]
    }
   ],
   "source": [
    "# Let's take an example using try-catch Exception.\n",
    "print(\"We have 5 pounds of Gauvas\")\n",
    "number = input(\"How many ways are we dividing the guavas?\")\n",
    "number = int(number)\n",
    "\n",
    "try:\n",
    "    poundsEach = 5/number\n",
    "    print(\"Each person gets\",poundsEach,\"pounds of Guava\")\n",
    "except ZeroDivisionError:\n",
    "    print(\" You can't divide by zero. Try again\")\n",
    "\n",
    "    \n",
    "# While executing program let's enter only 0"
   ]
  },
  {
   "cell_type": "code",
   "execution_count": 34,
   "metadata": {},
   "outputs": [
    {
     "name": "stdout",
     "output_type": "stream",
     "text": [
      "We have 5 pounds of Gauvas\n",
      "How many ways are we dividing the gauvas?0\n"
     ]
    },
    {
     "ename": "ZeroDivisionError",
     "evalue": "division by zero",
     "output_type": "error",
     "traceback": [
      "\u001b[1;31m---------------------------------------------------------------------------\u001b[0m",
      "\u001b[1;31mZeroDivisionError\u001b[0m                         Traceback (most recent call last)",
      "\u001b[1;32m<ipython-input-34-a90a495ce4c7>\u001b[0m in \u001b[0;36m<module>\u001b[1;34m\u001b[0m\n\u001b[0;32m      2\u001b[0m \u001b[0mnumber\u001b[0m \u001b[1;33m=\u001b[0m \u001b[0minput\u001b[0m\u001b[1;33m(\u001b[0m\u001b[1;34m\"How many ways are we dividing the gauvas?\"\u001b[0m\u001b[1;33m)\u001b[0m\u001b[1;33m\u001b[0m\u001b[1;33m\u001b[0m\u001b[0m\n\u001b[0;32m      3\u001b[0m \u001b[0mnumber\u001b[0m \u001b[1;33m=\u001b[0m \u001b[0mint\u001b[0m\u001b[1;33m(\u001b[0m\u001b[0mnumber\u001b[0m\u001b[1;33m)\u001b[0m\u001b[1;33m\u001b[0m\u001b[1;33m\u001b[0m\u001b[0m\n\u001b[1;32m----> 4\u001b[1;33m \u001b[0mpoundsEach\u001b[0m \u001b[1;33m=\u001b[0m \u001b[1;36m5\u001b[0m\u001b[1;33m/\u001b[0m\u001b[0mnumber\u001b[0m\u001b[1;33m\u001b[0m\u001b[1;33m\u001b[0m\u001b[0m\n\u001b[0m\u001b[0;32m      5\u001b[0m \u001b[0mprint\u001b[0m\u001b[1;33m(\u001b[0m\u001b[0mpoundsEach\u001b[0m\u001b[1;33m)\u001b[0m\u001b[1;33m\u001b[0m\u001b[1;33m\u001b[0m\u001b[0m\n\u001b[0;32m      6\u001b[0m '''\n",
      "\u001b[1;31mZeroDivisionError\u001b[0m: division by zero"
     ]
    }
   ],
   "source": [
    "print(\"We have 5 pounds of Gauvas\")\n",
    "number = input(\"How many ways are we dividing the gauvas?\")\n",
    "number = int(number)\n",
    "poundsEach = 5/number\n",
    "print(poundsEach)\n",
    "'''\n",
    "try:\n",
    "    \n",
    "    print(\"Each person gets\",poundsEach,\"pounds of Guava\")\n",
    "except ZeroDivisionError:\n",
    "    print(\" You can't divide by zero. Try again\")\n",
    "'''"
   ]
  },
  {
   "cell_type": "code",
   "execution_count": 40,
   "metadata": {},
   "outputs": [],
   "source": [
    "### Python Functions\n",
    "\n",
    "def sum_of_series(start, end):\n",
    "   res = 0\n",
    "   for i in range(start, end + 1):\n",
    "       res += i\n",
    "   #print(res)\n",
    "   return res"
   ]
  },
  {
   "cell_type": "code",
   "execution_count": 38,
   "metadata": {},
   "outputs": [
    {
     "name": "stdout",
     "output_type": "stream",
     "text": [
      "1230\n"
     ]
    },
    {
     "data": {
      "text/plain": [
       "1230"
      ]
     },
     "execution_count": 38,
     "metadata": {},
     "output_type": "execute_result"
    }
   ],
   "source": [
    "# Accessing function\n",
    "r = sum_of_series(10,50)\n",
    "r"
   ]
  },
  {
   "cell_type": "code",
   "execution_count": 57,
   "metadata": {},
   "outputs": [
    {
     "data": {
      "text/plain": [
       "3"
      ]
     },
     "execution_count": 57,
     "metadata": {},
     "output_type": "execute_result"
    }
   ],
   "source": [
    "# Accessing function\n",
    "r = sum_of_series(3,3)\n",
    "r"
   ]
  },
  {
   "cell_type": "code",
   "execution_count": 58,
   "metadata": {},
   "outputs": [],
   "source": [
    "### Lambda function\n",
    "\n",
    "### Lambda functions are small functions usually not more than a line. \n",
    "### It can have any number of arguments just like a normal function. \n",
    "### The body of lambda functions is very small and consists of only one expression. \n",
    "### The result of the expression is the value when the lambda is applied to an argument. \n",
    "### Also there is no need for any return statement in lambda function.\n",
    "\n",
    "# Consider a function multiply()\n",
    "def multiply(x, y):\n",
    "    return x * y"
   ]
  },
  {
   "cell_type": "code",
   "execution_count": 59,
   "metadata": {},
   "outputs": [
    {
     "data": {
      "text/plain": [
       "12"
      ]
     },
     "execution_count": 59,
     "metadata": {},
     "output_type": "execute_result"
    }
   ],
   "source": [
    "# Function mutliply using the lambda function\n",
    "(lambda x, y: x * y)(3,4)"
   ]
  },
  {
   "cell_type": "code",
   "execution_count": 61,
   "metadata": {},
   "outputs": [
    {
     "name": "stdout",
     "output_type": "stream",
     "text": [
      "11\n"
     ]
    }
   ],
   "source": [
    "x = lambda a, b : a + b\n",
    "print(x(5, 6))"
   ]
  },
  {
   "cell_type": "code",
   "execution_count": 67,
   "metadata": {},
   "outputs": [
    {
     "data": {
      "text/plain": [
       "<map at 0x16dccedd208>"
      ]
     },
     "execution_count": 67,
     "metadata": {},
     "output_type": "execute_result"
    }
   ],
   "source": [
    "### Map function\n",
    "\n",
    "map_output = map(lambda x: x*2, [1, 2, 3, 4])\n",
    "map_output"
   ]
  },
  {
   "cell_type": "code",
   "execution_count": 70,
   "metadata": {},
   "outputs": [],
   "source": [
    "def myfunc(n):\n",
    "  return len(n)\n",
    "\n"
   ]
  },
  {
   "cell_type": "code",
   "execution_count": 71,
   "metadata": {},
   "outputs": [],
   "source": [
    "x = map(myfunc, ('apple', 'banana', 'cherry'))"
   ]
  },
  {
   "cell_type": "code",
   "execution_count": 72,
   "metadata": {},
   "outputs": [
    {
     "name": "stdout",
     "output_type": "stream",
     "text": [
      "<map object at 0x0000016DCCEDD488>\n"
     ]
    }
   ],
   "source": [
    "print(x)"
   ]
  },
  {
   "cell_type": "code",
   "execution_count": 73,
   "metadata": {},
   "outputs": [
    {
     "ename": "TypeError",
     "evalue": "'list' object is not callable",
     "output_type": "error",
     "traceback": [
      "\u001b[1;31m---------------------------------------------------------------------------\u001b[0m",
      "\u001b[1;31mTypeError\u001b[0m                                 Traceback (most recent call last)",
      "\u001b[1;32m<ipython-input-73-e0ae9cbeda00>\u001b[0m in \u001b[0;36m<module>\u001b[1;34m\u001b[0m\n\u001b[0;32m      1\u001b[0m \u001b[1;31m#convert the map into a list, for readability:\u001b[0m\u001b[1;33m\u001b[0m\u001b[1;33m\u001b[0m\u001b[1;33m\u001b[0m\u001b[0m\n\u001b[1;32m----> 2\u001b[1;33m \u001b[0mprint\u001b[0m\u001b[1;33m(\u001b[0m\u001b[0mlist\u001b[0m\u001b[1;33m(\u001b[0m\u001b[0mx\u001b[0m\u001b[1;33m)\u001b[0m\u001b[1;33m)\u001b[0m\u001b[1;33m\u001b[0m\u001b[1;33m\u001b[0m\u001b[0m\n\u001b[0m",
      "\u001b[1;31mTypeError\u001b[0m: 'list' object is not callable"
     ]
    }
   ],
   "source": [
    "#convert the map into a list, for readability:\n",
    "print(list(x))"
   ]
  },
  {
   "cell_type": "code",
   "execution_count": 76,
   "metadata": {},
   "outputs": [],
   "source": [
    "def myfunc(a, b):\n",
    "  return a + b\n",
    "\n",
    "x = map(myfunc, ('apple', 'banana', 'cherry'), ('orange', 'lemon', 'pineapple'))"
   ]
  },
  {
   "cell_type": "code",
   "execution_count": 77,
   "metadata": {},
   "outputs": [
    {
     "data": {
      "text/plain": [
       "<map at 0x16dcced3c08>"
      ]
     },
     "execution_count": 77,
     "metadata": {},
     "output_type": "execute_result"
    }
   ],
   "source": [
    "x"
   ]
  },
  {
   "cell_type": "code",
   "execution_count": 81,
   "metadata": {},
   "outputs": [
    {
     "name": "stdout",
     "output_type": "stream",
     "text": [
      "<function <lambda> at 0x0000016DCCECD048>\n"
     ]
    }
   ],
   "source": [
    "check_num = lambda x: 'Num greater than 5' if x > 5 else 'Num not greater than 5'\n",
    "print(check_num)"
   ]
  },
  {
   "cell_type": "code",
   "execution_count": 89,
   "metadata": {},
   "outputs": [
    {
     "name": "stdout",
     "output_type": "stream",
     "text": [
      "<filter object at 0x0000016DCCEC96C8>\n"
     ]
    }
   ],
   "source": [
    "mylist = range(16)\n",
    "print(filter(lambda x: x % 3 == 0, mylist))\n",
    "# AND\n",
    "# mylist=[i for i in range(16) if x%3==0]\n",
    "# print mylist"
   ]
  },
  {
   "cell_type": "code",
   "execution_count": null,
   "metadata": {},
   "outputs": [],
   "source": []
  }
 ],
 "metadata": {
  "kernelspec": {
   "display_name": "Python 3",
   "language": "python",
   "name": "python3"
  },
  "language_info": {
   "codemirror_mode": {
    "name": "ipython",
    "version": 3
   },
   "file_extension": ".py",
   "mimetype": "text/x-python",
   "name": "python",
   "nbconvert_exporter": "python",
   "pygments_lexer": "ipython3",
   "version": "3.7.4"
  }
 },
 "nbformat": 4,
 "nbformat_minor": 2
}
