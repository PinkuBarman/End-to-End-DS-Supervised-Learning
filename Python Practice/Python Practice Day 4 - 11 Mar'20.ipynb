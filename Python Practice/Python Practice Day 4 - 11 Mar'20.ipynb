{
 "cells": [
  {
   "cell_type": "code",
   "execution_count": 1,
   "metadata": {},
   "outputs": [
    {
     "name": "stdout",
     "output_type": "stream",
     "text": [
      "{'a': 'AI', 'b': 'Business', 'c': 'cost', 'd': 'Data'}\n"
     ]
    }
   ],
   "source": [
    "##************* Basic Dictionary Operations *******************##\n",
    "\n",
    "sample_dict = {'a':'AI','b':'Business','c':'cost','d':'Data'}\n",
    "print(sample_dict)"
   ]
  },
  {
   "cell_type": "code",
   "execution_count": 4,
   "metadata": {},
   "outputs": [
    {
     "name": "stdout",
     "output_type": "stream",
     "text": [
      "Business\n"
     ]
    }
   ],
   "source": [
    "## Accessing using get method \n",
    "print(sample_dict.get('b'))"
   ]
  },
  {
   "cell_type": "code",
   "execution_count": 5,
   "metadata": {},
   "outputs": [
    {
     "data": {
      "text/plain": [
       "dict_keys(['a', 'b', 'c', 'd'])"
      ]
     },
     "execution_count": 5,
     "metadata": {},
     "output_type": "execute_result"
    }
   ],
   "source": [
    "## Accessing only the keys\n",
    "sample_dict.keys()"
   ]
  },
  {
   "cell_type": "code",
   "execution_count": 6,
   "metadata": {},
   "outputs": [
    {
     "data": {
      "text/plain": [
       "dict_values(['AI', 'Business', 'cost', 'Data'])"
      ]
     },
     "execution_count": 6,
     "metadata": {},
     "output_type": "execute_result"
    }
   ],
   "source": [
    "## Accessing the values of dictionary\n",
    "sample_dict.values()"
   ]
  },
  {
   "cell_type": "code",
   "execution_count": 7,
   "metadata": {},
   "outputs": [
    {
     "data": {
      "text/plain": [
       "dict_items([('a', 'AI'), ('b', 'Business'), ('c', 'cost'), ('d', 'Data')])"
      ]
     },
     "execution_count": 7,
     "metadata": {},
     "output_type": "execute_result"
    }
   ],
   "source": [
    "## Accessing the items(key,values) of dictionary 'sample_dict'\n",
    "sample_dict.items()"
   ]
  },
  {
   "cell_type": "code",
   "execution_count": 17,
   "metadata": {},
   "outputs": [
    {
     "name": "stdout",
     "output_type": "stream",
     "text": [
      "--------------------\n",
      "ITEMS IN DICTIONARY ARE : \n",
      "('a', 'AI')\n",
      "('b', 'Business')\n",
      "('c', 'cost')\n",
      "('d', 'Data')\n",
      "--------------------\n"
     ]
    }
   ],
   "source": [
    "# Iterating a dictionary\n",
    "\n",
    "print('-'*20)\n",
    "print('ITEMS IN DICTIONARY ARE : ')\n",
    "\n",
    "for x in sample_dict.items():\n",
    "    print(x)\n",
    "    \n",
    "print('-'*20)"
   ]
  },
  {
   "cell_type": "code",
   "execution_count": 16,
   "metadata": {},
   "outputs": [
    {
     "name": "stdout",
     "output_type": "stream",
     "text": [
      "VALUES IN DICT ARE : \n",
      "AI\n",
      "Business\n",
      "cost\n",
      "Data\n"
     ]
    }
   ],
   "source": [
    "# Extracting items by iterating dictionary keys\n",
    "\n",
    "print('VALUES IN DICT ARE : ')\n",
    "\n",
    "for x in sample_dict.keys():\n",
    "    print(sample_dict[x]) ## x is nothing but values for the specific key\n",
    "    \n"
   ]
  },
  {
   "cell_type": "code",
   "execution_count": 18,
   "metadata": {},
   "outputs": [
    {
     "name": "stdout",
     "output_type": "stream",
     "text": [
      "KEYS : \n",
      "a\n",
      "b\n",
      "c\n",
      "d\n"
     ]
    }
   ],
   "source": [
    "# Extracting only keys of dictionary sample_dict\n",
    "\n",
    "print('KEYS : ')\n",
    "\n",
    "for x in sample_dict.keys():\n",
    "    print(x)"
   ]
  },
  {
   "cell_type": "code",
   "execution_count": 21,
   "metadata": {},
   "outputs": [
    {
     "name": "stdout",
     "output_type": "stream",
     "text": [
      "a\n",
      "b\n",
      "c\n",
      "d\n"
     ]
    }
   ],
   "source": [
    "## By iterating over values not on items, print keys of a dictionary\n",
    "\n",
    "for x in sample_dict:\n",
    "    print(x)"
   ]
  },
  {
   "cell_type": "code",
   "execution_count": 23,
   "metadata": {},
   "outputs": [
    {
     "name": "stdout",
     "output_type": "stream",
     "text": [
      "{'Vinod': 'Knowledgeable', 'Umesh': 'Hardwork', 'Ganesh': 'Polite', 'Bhushan': 'Good'}\n"
     ]
    }
   ],
   "source": [
    "### Class task :- \"Prepare a dictionary with keys as names of persons you know and values as the first word that comes to your mind with their name\n",
    "\n",
    "sample_dict = {'Vinod':'Knowledgeable','Umesh':'Hardwork','Ganesh':'Polite','Bhushan':'Good'}\n",
    "print(sample_dict)\n",
    "\n"
   ]
  },
  {
   "cell_type": "code",
   "execution_count": 25,
   "metadata": {},
   "outputs": [
    {
     "name": "stdout",
     "output_type": "stream",
     "text": [
      "Polite\n"
     ]
    }
   ],
   "source": [
    "print(sample_dict.get('Ganesh'))"
   ]
  },
  {
   "cell_type": "code",
   "execution_count": null,
   "metadata": {},
   "outputs": [],
   "source": []
  }
 ],
 "metadata": {
  "kernelspec": {
   "display_name": "Python 3",
   "language": "python",
   "name": "python3"
  },
  "language_info": {
   "codemirror_mode": {
    "name": "ipython",
    "version": 3
   },
   "file_extension": ".py",
   "mimetype": "text/x-python",
   "name": "python",
   "nbconvert_exporter": "python",
   "pygments_lexer": "ipython3",
   "version": "3.7.4"
  }
 },
 "nbformat": 4,
 "nbformat_minor": 2
}
