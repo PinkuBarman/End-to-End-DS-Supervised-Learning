{
 "cells": [
  {
   "cell_type": "code",
   "execution_count": 1,
   "metadata": {},
   "outputs": [
    {
     "data": {
      "text/plain": [
       "[2, 3, 4]"
      ]
     },
     "execution_count": 1,
     "metadata": {},
     "output_type": "execute_result"
    }
   ],
   "source": [
    "###********************************* List Comprehension **********************************##\n",
    "## Using list comprehension technique\n",
    "\n",
    "# Syntax\n",
    "# Expression for item in list\n",
    "#                 if condition\n",
    "\n",
    "list_a = [1,2,3,4]\n",
    "list_b = [2,3,4,5]\n",
    "common_num = [a\n",
    "              for a in list_a\n",
    "              for b in list_b\n",
    "              if a == b\n",
    "             ]\n",
    "common_num"
   ]
  },
  {
   "cell_type": "code",
   "execution_count": 2,
   "metadata": {},
   "outputs": [
    {
     "data": {
      "text/plain": [
       "[4, 9, 16]"
      ]
     },
     "execution_count": 2,
     "metadata": {},
     "output_type": "execute_result"
    }
   ],
   "source": [
    "## square root of every element in the list\n",
    "square_root = [a**2\n",
    "              for a in common_num\n",
    "             ]\n",
    "square_root"
   ]
  },
  {
   "cell_type": "code",
   "execution_count": 4,
   "metadata": {},
   "outputs": [
    {
     "name": "stdout",
     "output_type": "stream",
     "text": [
      "[2, 4]\n"
     ]
    }
   ],
   "source": [
    "## Print all even numbers in a list\n",
    "\n",
    "all_even = [a for a in common_num \n",
    "                        if a % 2 == 0 ]\n",
    "print(all_even)"
   ]
  },
  {
   "cell_type": "code",
   "execution_count": 7,
   "metadata": {},
   "outputs": [
    {
     "name": "stdout",
     "output_type": "stream",
     "text": [
      "[4, 16]\n"
     ]
    }
   ],
   "source": [
    "## Print square root of all even numbers in the list\n",
    "\n",
    "sqrt_alleven = [expression**2 for expression in common_num\n",
    "                           if expression%2 == 0]\n",
    "print(sqrt_alleven)"
   ]
  },
  {
   "cell_type": "code",
   "execution_count": 34,
   "metadata": {},
   "outputs": [
    {
     "name": "stdout",
     "output_type": "stream",
     "text": [
      "['Delhi', 'Mumbai', 'Banglore', 'Chennai', 'Pune', 'Myshore', 'Kolkata', 'Hydrabad']\n"
     ]
    }
   ],
   "source": [
    "## List Method Calls\n",
    "#sort method\n",
    "\n",
    "cities = ['Delhi','Mumbai','Banglore','Chennai','Pune','Myshore','Kolkata','Hydrabad']\n",
    "\n",
    "print(cities)\n"
   ]
  },
  {
   "cell_type": "code",
   "execution_count": 9,
   "metadata": {},
   "outputs": [
    {
     "name": "stdout",
     "output_type": "stream",
     "text": [
      "None\n"
     ]
    }
   ],
   "source": [
    "sort_cities = cities.sort()\n",
    "print(sort_cities)"
   ]
  },
  {
   "cell_type": "code",
   "execution_count": 12,
   "metadata": {},
   "outputs": [
    {
     "name": "stdout",
     "output_type": "stream",
     "text": [
      "['Delhi', 'Mumbai', 'Banglore', 'Chennai', 'Pune', 'Myshore', 'Kolkata', 'Hydrabad']\n"
     ]
    }
   ],
   "source": [
    "print(cities)"
   ]
  },
  {
   "cell_type": "code",
   "execution_count": 13,
   "metadata": {},
   "outputs": [
    {
     "name": "stdout",
     "output_type": "stream",
     "text": [
      "['Banglore', 'Chennai', 'Delhi', 'Hydrabad', 'Kolkata', 'Mumbai', 'Myshore', 'Pune']\n"
     ]
    }
   ],
   "source": [
    "#sorted method\n",
    "sorted_cities = sorted(cities)\n",
    "print(sorted_cities)"
   ]
  },
  {
   "cell_type": "code",
   "execution_count": 14,
   "metadata": {},
   "outputs": [
    {
     "name": "stdout",
     "output_type": "stream",
     "text": [
      "['Delhi', 'Mumbai', 'Banglore', 'Chennai', 'Noida', 'Pune', 'Myshore', 'Kolkata', 'Hydrabad']\n"
     ]
    }
   ],
   "source": [
    "## Explore insert(), index()\n",
    "\n",
    "cities.insert(4, 'Noida')\n",
    "print(cities)\n"
   ]
  },
  {
   "cell_type": "code",
   "execution_count": 16,
   "metadata": {},
   "outputs": [
    {
     "name": "stdout",
     "output_type": "stream",
     "text": [
      "4\n"
     ]
    }
   ],
   "source": [
    "index = cities.index('Noida')\n",
    "print(index)"
   ]
  },
  {
   "cell_type": "code",
   "execution_count": 35,
   "metadata": {},
   "outputs": [
    {
     "name": "stdout",
     "output_type": "stream",
     "text": [
      "['Delhi', 'Mumbai', 'Banglore', 'Chennai', 'Pune', 'Myshore', 'Kolkata', 'Hydrabad']\n",
      "['Mumbai', 'Banglore', 'Chennai', 'Pune', 'Myshore', 'Kolkata', 'Hydrabad']\n"
     ]
    }
   ],
   "source": [
    "## Find the output of del cities[0], del cities[1:]\n",
    "\n",
    "## Remove first element\n",
    "print(cities)\n",
    "del cities[0]\n",
    "print(cities)"
   ]
  },
  {
   "cell_type": "code",
   "execution_count": 36,
   "metadata": {},
   "outputs": [
    {
     "name": "stdout",
     "output_type": "stream",
     "text": [
      "['Mumbai', 'Banglore', 'Chennai', 'Pune', 'Myshore', 'Kolkata', 'Hydrabad']\n",
      "['Mumbai', 'Pune', 'Myshore', 'Kolkata', 'Hydrabad']\n"
     ]
    }
   ],
   "source": [
    "# Remove two middle elements.\n",
    "print(cities)\n",
    "del cities[1:3]\n",
    "print(cities)"
   ]
  },
  {
   "cell_type": "code",
   "execution_count": 37,
   "metadata": {},
   "outputs": [
    {
     "name": "stdout",
     "output_type": "stream",
     "text": [
      "['Mumbai', 'Pune', 'Myshore', 'Kolkata', 'Hydrabad']\n",
      "['Myshore', 'Kolkata', 'Hydrabad']\n"
     ]
    }
   ],
   "source": [
    "## Remove till 1st index\n",
    "print(cities)\n",
    "del cities[:2]\n",
    "print(cities)"
   ]
  },
  {
   "cell_type": "code",
   "execution_count": 38,
   "metadata": {},
   "outputs": [
    {
     "name": "stdout",
     "output_type": "stream",
     "text": [
      "['Myshore', 'Kolkata', 'Hydrabad']\n",
      "['Myshore']\n"
     ]
    }
   ],
   "source": [
    "## Remove till 1st index\n",
    "print(cities)\n",
    "del cities[1:]\n",
    "print(cities)"
   ]
  }
 ],
 "metadata": {
  "kernelspec": {
   "display_name": "Python 3",
   "language": "python",
   "name": "python3"
  },
  "language_info": {
   "codemirror_mode": {
    "name": "ipython",
    "version": 3
   },
   "file_extension": ".py",
   "mimetype": "text/x-python",
   "name": "python",
   "nbconvert_exporter": "python",
   "pygments_lexer": "ipython3",
   "version": "3.7.4"
  }
 },
 "nbformat": 4,
 "nbformat_minor": 2
}
