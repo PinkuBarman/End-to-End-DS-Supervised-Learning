{
 "cells": [
  {
   "cell_type": "code",
   "execution_count": 1,
   "metadata": {},
   "outputs": [],
   "source": [
    "## 1. Create a 1D array of numbers from 0 to 9."
   ]
  },
  {
   "cell_type": "code",
   "execution_count": 2,
   "metadata": {},
   "outputs": [],
   "source": [
    "import numpy as np"
   ]
  },
  {
   "cell_type": "code",
   "execution_count": 5,
   "metadata": {},
   "outputs": [
    {
     "name": "stdout",
     "output_type": "stream",
     "text": [
      "[0 1 2 3 4 5 6 7 8 9]\n"
     ]
    }
   ],
   "source": [
    "array = np.arange(10)\n",
    "print(array)"
   ]
  },
  {
   "cell_type": "code",
   "execution_count": 6,
   "metadata": {},
   "outputs": [],
   "source": [
    "## 2. Create a 3×3 numpy array of all True’s"
   ]
  },
  {
   "cell_type": "code",
   "execution_count": 8,
   "metadata": {},
   "outputs": [
    {
     "name": "stdout",
     "output_type": "stream",
     "text": [
      "[[ True  True  True]\n",
      " [ True  True  True]\n",
      " [ True  True  True]]\n"
     ]
    }
   ],
   "source": [
    "bool_arr = np.ones((3,3), dtype=bool)\n",
    "print(bool_arr)"
   ]
  },
  {
   "cell_type": "code",
   "execution_count": 9,
   "metadata": {},
   "outputs": [],
   "source": [
    "## 3. Given an array as input, print only odd numbers as output"
   ]
  },
  {
   "cell_type": "code",
   "execution_count": 5,
   "metadata": {},
   "outputs": [
    {
     "name": "stdout",
     "output_type": "stream",
     "text": [
      "odd number  [ 1  3  5  7  9 11 13 15 17 19 21 23 25 27 29 31 33 35 37 39 41 43 45 47\n",
      " 49 51 53 55 57 59 61 63 65 67 69 71 73 75 77 79 81 83 85 87 89 91 93 95\n",
      " 97 99]\n"
     ]
    }
   ],
   "source": [
    "arr=np.array(range(1,100))\n",
    "arr_odd = arr[arr%2!=0]\n",
    "print(\"odd number \", arr_odd)"
   ]
  },
  {
   "cell_type": "code",
   "execution_count": null,
   "metadata": {},
   "outputs": [],
   "source": [
    "## 4. Replace all odd numbers in arr with -2"
   ]
  },
  {
   "cell_type": "code",
   "execution_count": 20,
   "metadata": {},
   "outputs": [
    {
     "name": "stdout",
     "output_type": "stream",
     "text": [
      "replace odd number with '-2' : [-2  2 -2  4 -2  6 -2  8 -2 10 -2 12 -2 14 -2 16 -2 18 -2 20 -2 22 -2 24\n",
      " -2 26 -2 28 -2 30 -2 32 -2 34 -2 36 -2 38 -2 40 -2 42 -2 44 -2 46 -2 48\n",
      " -2 50 -2 52 -2 54 -2 56 -2 58 -2 60 -2 62 -2 64 -2 66 -2 68 -2 70 -2 72\n",
      " -2 74 -2 76 -2 78 -2 80 -2 82 -2 84 -2 86 -2 88 -2 90 -2 92 -2 94 -2 96\n",
      " -2 98 -2]\n"
     ]
    }
   ],
   "source": [
    "arr=np.array(range(1,100))\n",
    "arr_odd = (arr%2==1)\n",
    "arr[arr_odd] = -2\n",
    "print(\"replace odd number with '-2' :\", arr)"
   ]
  },
  {
   "cell_type": "code",
   "execution_count": 24,
   "metadata": {},
   "outputs": [
    {
     "name": "stdout",
     "output_type": "stream",
     "text": [
      "[-2  2 -2  4 -2  6 -2  8 -2 10 -2 12 -2 14 -2 16 -2 18 -2 20 -2 22 -2 24\n",
      " -2 26 -2 28 -2 30 -2 32 -2 34 -2 36 -2 38 -2 40 -2 42 -2 44 -2 46 -2 48\n",
      " -2 50 -2 52 -2 54 -2 56 -2 58 -2 60 -2 62 -2 64 -2 66 -2 68 -2 70 -2 72\n",
      " -2 74 -2 76 -2 78 -2 80 -2 82 -2 84 -2 86 -2 88 -2 90 -2 92 -2 94 -2 96\n",
      " -2 98 -2]\n"
     ]
    }
   ],
   "source": [
    "##Another Method:\n",
    "    \n",
    "arr[arr%2==1] = -2\n",
    "print(arr)"
   ]
  },
  {
   "cell_type": "code",
   "execution_count": 25,
   "metadata": {},
   "outputs": [],
   "source": [
    "## 5. How to reshape an array?"
   ]
  },
  {
   "cell_type": "code",
   "execution_count": 6,
   "metadata": {},
   "outputs": [
    {
     "name": "stdout",
     "output_type": "stream",
     "text": [
      "[[0 1 2 3 4]\n",
      " [5 6 7 8 9]]\n"
     ]
    }
   ],
   "source": [
    "array = np.arange(10).reshape(2,5)\n",
    "print(array)"
   ]
  },
  {
   "cell_type": "code",
   "execution_count": 7,
   "metadata": {},
   "outputs": [],
   "source": [
    "# 6. Convert a 1D array to a 2D array with 2 rows"
   ]
  },
  {
   "cell_type": "code",
   "execution_count": 19,
   "metadata": {},
   "outputs": [
    {
     "name": "stdout",
     "output_type": "stream",
     "text": [
      "1D Array :  [ 0  1  2  3  4  5  6  7  8  9 10 11 12 13 14 15 16 17 18 19]\n",
      "Convert 1D to 2D Array :  [[ 0  1]\n",
      " [ 2  3]\n",
      " [ 4  5]\n",
      " [ 6  7]\n",
      " [ 8  9]\n",
      " [10 11]\n",
      " [12 13]\n",
      " [14 15]\n",
      " [16 17]\n",
      " [18 19]]\n"
     ]
    }
   ],
   "source": [
    "array_1D = np.arange(20)\n",
    "\n",
    "print(\"1D Array : \",array_1D)\n",
    "\n",
    "array_2D = np.reshape(array_1D,(10,2))\n",
    "print(\"Convert 1D to 2D Array : \", array_2D)"
   ]
  },
  {
   "cell_type": "code",
   "execution_count": 20,
   "metadata": {},
   "outputs": [],
   "source": [
    "# 7. Given an array  a  = [1,2,3,4,5,6,7,8,9] , \n",
    "# create  new array b from a such that b includes all odd numbers and 4 multiples. "
   ]
  },
  {
   "cell_type": "code",
   "execution_count": 72,
   "metadata": {},
   "outputs": [
    {
     "name": "stdout",
     "output_type": "stream",
     "text": [
      "Given array 'a' : [1 2 3 4 5 6 7 8 9]\n",
      "All odd numbers and 4 multiples : [1 3 4 5 7 8 9]\n"
     ]
    }
   ],
   "source": [
    "a = np.array([1,2,3,4,5,6,7,8,9])\n",
    "print(\"Given array 'a' :\", a)\n",
    "b = a[((a%2) != 0) | ((a%4) == 0)]\n",
    "\n",
    "print(\"All odd numbers and 4 multiples :\", b)\n"
   ]
  },
  {
   "cell_type": "code",
   "execution_count": 70,
   "metadata": {},
   "outputs": [],
   "source": [
    "# 8. Given array, check if there are any null values and print them out."
   ]
  },
  {
   "cell_type": "code",
   "execution_count": 92,
   "metadata": {},
   "outputs": [
    {
     "name": "stdout",
     "output_type": "stream",
     "text": [
      "[[nan nan nan]\n",
      " [nan nan nan]\n",
      " [nan nan nan]]\n"
     ]
    }
   ],
   "source": [
    "an_array = np.empty((3,3))\n",
    "an_array[:] = np.NaN\n",
    "\n",
    "print(an_array)\n"
   ]
  },
  {
   "cell_type": "code",
   "execution_count": 93,
   "metadata": {},
   "outputs": [],
   "source": [
    "# 9. How to replace all missing values with 0 in a numpy array?"
   ]
  },
  {
   "cell_type": "code",
   "execution_count": 107,
   "metadata": {},
   "outputs": [
    {
     "name": "stdout",
     "output_type": "stream",
     "text": [
      "Originanl array : [[ 1.  2.  3. nan  4.]\n",
      " [ 5. nan nan  6.  7.]\n",
      " [ 8.  9. nan 10. 11.]]\n",
      "Replace missing values with 0 : [[ 1.  2.  3.  0.  4.]\n",
      " [ 5.  0.  0.  6.  7.]\n",
      " [ 8.  9.  0. 10. 11.]]\n"
     ]
    }
   ],
   "source": [
    "x = np.array([1, 2,3,np.nan,4,5,np.nan,np.nan,6,7,8,9,np.nan,10,11]).reshape(3,5)\n",
    "print(\"Originanl array :\", x)\n",
    "x[np.isnan(x) == 1] = 0\n",
    "print(\"Replace missing values with 0 :\" , x)"
   ]
  },
  {
   "cell_type": "code",
   "execution_count": 108,
   "metadata": {},
   "outputs": [],
   "source": [
    "# 10. How to find the count of each unique number in a NumPy array?"
   ]
  },
  {
   "cell_type": "code",
   "execution_count": 116,
   "metadata": {},
   "outputs": [
    {
     "name": "stdout",
     "output_type": "stream",
     "text": [
      "[[1 4]\n",
      " [2 1]\n",
      " [3 1]\n",
      " [4 3]\n",
      " [5 2]\n",
      " [6 2]\n",
      " [7 1]\n",
      " [9 1]]\n"
     ]
    }
   ],
   "source": [
    "arr = np.array([1, 1, 2, 3, 4, 4, 1, 1, 5, 6, 7, 4, 5, 6, 9])\n",
    "\n",
    "# Get unique values and count\n",
    "(unique, counts) = np.unique(arr, return_counts=True)\n",
    "\n",
    "frequencies = np.asarray((unique, counts)).T\n",
    "\n",
    "print(frequencies)"
   ]
  },
  {
   "cell_type": "code",
   "execution_count": 117,
   "metadata": {},
   "outputs": [],
   "source": [
    "# 11. How to convert a numeric to a categorical (text) array?"
   ]
  },
  {
   "cell_type": "code",
   "execution_count": 136,
   "metadata": {},
   "outputs": [
    {
     "name": "stdout",
     "output_type": "stream",
     "text": [
      "Original array : [[ 0  1  2]\n",
      " [ 3  4  5]\n",
      " [ 6  7  8]\n",
      " [ 9 10 11]\n",
      " [12 13 14]\n",
      " [15 16 17]\n",
      " [18 19 20]]\n",
      "Covert to Categorical array : [['0' '1' '2']\n",
      " ['3' '4' '5']\n",
      " ['6' '7' '8']\n",
      " ['9' '10' '11']\n",
      " ['12' '13' '14']\n",
      " ['15' '16' '17']\n",
      " ['18' '19' '20']]\n"
     ]
    }
   ],
   "source": [
    "num_arr = np.arange(21).reshape(7,3)\n",
    "\n",
    "print(\"Original array :\",num_arr)\n",
    "\n",
    "str_arr = num_arr.astype(str)\n",
    "\n",
    "print(\"Covert to Categorical array :\",str_arr)"
   ]
  },
  {
   "cell_type": "code",
   "execution_count": 137,
   "metadata": {},
   "outputs": [],
   "source": [
    "# 12. Write a program to print all numbers between 99 and 299 which are either divisible by 5 or 7.\n",
    "# Exclude the elements which are divisible by both. "
   ]
  },
  {
   "cell_type": "code",
   "execution_count": 168,
   "metadata": {
    "scrolled": true
   },
   "outputs": [
    {
     "name": "stdout",
     "output_type": "stream",
     "text": [
      "\n",
      " numbers between 99 and 299 : \n",
      " [ 99 100 101 102 103 104 105 106 107 108 109 110 111 112 113 114 115 116\n",
      " 117 118 119 120 121 122 123 124 125 126 127 128 129 130 131 132 133 134\n",
      " 135 136 137 138 139 140 141 142 143 144 145 146 147 148 149 150 151 152\n",
      " 153 154 155 156 157 158 159 160 161 162 163 164 165 166 167 168 169 170\n",
      " 171 172 173 174 175 176 177 178 179 180 181 182 183 184 185 186 187 188\n",
      " 189 190 191 192 193 194 195 196 197 198 199 200 201 202 203 204 205 206\n",
      " 207 208 209 210 211 212 213 214 215 216 217 218 219 220 221 222 223 224\n",
      " 225 226 227 228 229 230 231 232 233 234 235 236 237 238 239 240 241 242\n",
      " 243 244 245 246 247 248 249 250 251 252 253 254 255 256 257 258 259 260\n",
      " 261 262 263 264 265 266 267 268 269 270 271 272 273 274 275 276 277 278\n",
      " 279 280 281 282 283 284 285 286 287 288 289 290 291 292 293 294 295 296\n",
      " 297 298]\n",
      "\n",
      " numbers either divisible by 5 or 7 : \n",
      " [100 105 110 112 115 119 120 125 126 130 133 135 140 145 147 150 154 155\n",
      " 160 161 165 168 170 175 180 182 185 189 190 195 196 200 203 205 210 215\n",
      " 217 220 224 225 230 231 235 238 240 245 250 252 255 259 260 265 266 270\n",
      " 273 275 280 285 287 290 294 295]\n",
      "\n",
      " numbers both divisible by 5 and 7 : \n",
      " [105 140 175 210 245 280]\n",
      "\n",
      " exclude numbers both divisible by 5 and 7 : \n",
      " [100 110 112 115 119 120 125 126 130 133 135 145 147 150 154 155 160 161\n",
      " 165 168 170 180 182 185 189 190 195 196 200 203 205 215 217 220 224 225\n",
      " 230 231 235 238 240 250 252 255 259 260 265 266 270 273 275 285 287 290\n",
      " 294 295]\n"
     ]
    }
   ],
   "source": [
    "a_arr = np.arange(99,299)\n",
    "\n",
    "print(\"\\n numbers between 99 and 299 : \\n\",a_arr)\n",
    "\n",
    "arr_div = a_arr[(a_arr%5 == 0) | (a_arr%7 == 0)]\n",
    "\n",
    "print(\"\\n numbers either divisible by 5 or 7 : \\n\",arr_div)\n",
    "\n",
    "arr_div_exclude = arr_div[(arr_div%5 == 0) & (arr_div%7 == 0)]\n",
    "\n",
    "print(\"\\n numbers both divisible by 5 and 7 : \\n\",arr_div_exclude)\n",
    "\n",
    "arr_div = np.delete(arr_div,np.argwhere((arr_div%5 == 0) & (arr_div%7 == 0)))\n",
    "\n",
    "print(\"\\n exclude numbers both divisible by 5 and 7 : \\n\",arr_div)"
   ]
  },
  {
   "cell_type": "code",
   "execution_count": 169,
   "metadata": {},
   "outputs": [],
   "source": [
    "# 13. Write a program to reverse an array and print (Don’t use inbuilt reverse functions)"
   ]
  },
  {
   "cell_type": "code",
   "execution_count": 176,
   "metadata": {},
   "outputs": [
    {
     "name": "stdout",
     "output_type": "stream",
     "text": [
      "\n",
      " Original Array : \n",
      " [ 0  1  2  3  4  5  6  7  8  9 10 11 12 13 14 15 16 17 18 19 20 21 22 23\n",
      " 24 25 26 27 28 29 30 31 32 33 34 35 36 37 38 39 40 41 42 43 44 45 46 47\n",
      " 48 49]\n",
      "\n",
      " Reversal Array : \n",
      " [49 48 47 46 45 44 43 42 41 40 39 38 37 36 35 34 33 32 31 30 29 28 27 26\n",
      " 25 24 23 22 21 20 19 18 17 16 15 14 13 12 11 10  9  8  7  6  5  4  3  2\n",
      "  1  0]\n"
     ]
    }
   ],
   "source": [
    "init_arr = np.arange(50)\n",
    "\n",
    "print(\"\\n Original Array : \\n\", init_arr)\n",
    "\n",
    "rev_arr = init_arr[::-1]\n",
    "\n",
    "print(\"\\n Reversal Array : \\n\",rev_arr)"
   ]
  },
  {
   "cell_type": "code",
   "execution_count": null,
   "metadata": {},
   "outputs": [],
   "source": []
  }
 ],
 "metadata": {
  "kernelspec": {
   "display_name": "Python 3",
   "language": "python",
   "name": "python3"
  },
  "language_info": {
   "codemirror_mode": {
    "name": "ipython",
    "version": 3
   },
   "file_extension": ".py",
   "mimetype": "text/x-python",
   "name": "python",
   "nbconvert_exporter": "python",
   "pygments_lexer": "ipython3",
   "version": "3.7.4"
  }
 },
 "nbformat": 4,
 "nbformat_minor": 2
}
