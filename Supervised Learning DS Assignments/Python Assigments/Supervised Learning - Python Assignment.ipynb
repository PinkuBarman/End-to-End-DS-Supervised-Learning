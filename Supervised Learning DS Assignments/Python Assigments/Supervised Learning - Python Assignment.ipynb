{
 "cells": [
  {
   "cell_type": "code",
   "execution_count": 1,
   "metadata": {},
   "outputs": [],
   "source": [
    "### Python Assignment Questions"
   ]
  },
  {
   "cell_type": "code",
   "execution_count": 2,
   "metadata": {},
   "outputs": [],
   "source": [
    "###********************************************###\n",
    "### Questions on String ###\n",
    "###********************************************###"
   ]
  },
  {
   "cell_type": "code",
   "execution_count": 13,
   "metadata": {},
   "outputs": [],
   "source": [
    "### Let's take the following string\n",
    "\n",
    "# \" I am very keen in building up my career in Data Science, but not sure from where to start. \n",
    "#   If I search the web it throws me thousands of articles, few are relevant others make me confused, \n",
    "#   again I come around to the same page. Supervised has provided me a good platform to remove all such \n",
    "#   qualms which were wrangling in my mind\"\n",
    "###\n",
    "\n",
    "#1. Consider the above text as a string, figure out the average length of the string.\n",
    "\n",
    "#2. Lower the text in the string.\n",
    "\n",
    "#3. Try to get the clean text removing the punctuation from the string.\n",
    "\n",
    "#4. Extract word \"Data Science\" from the string.\n",
    "\n",
    "#5. Find the frequency of words used in the string.\n",
    "\n",
    "#6. Find all the words which occurred more than once in the string.\n",
    "\n",
    "#7. Can you change the word \"Supervised\" to \"Unsupervised\" in the string\n",
    "\n",
    "#8. Splitting of the string with a dot operator(.)\n",
    "\n",
    "#9. Find the words from the string which ends with \"e\"\n",
    "\n",
    "#10. Figure out number of a's used in the string."
   ]
  },
  {
   "cell_type": "code",
   "execution_count": 4,
   "metadata": {},
   "outputs": [],
   "source": [
    "#1. Consider the above text as a string, figure out the average length of the string."
   ]
  },
  {
   "cell_type": "code",
   "execution_count": 43,
   "metadata": {},
   "outputs": [
    {
     "name": "stdout",
     "output_type": "stream",
     "text": [
      "\n",
      "length of the string: \n",
      "\n",
      " 328 \n",
      "\n"
     ]
    }
   ],
   "source": [
    "\n",
    "s_text = \" I am very keen in building up my career in Data Science, but not sure from where to start. If I search the web it throws me thousands of articles, few are relevant others make me confused, again I come around to the same page. Supervised has provided me a good platform to remove all such qualms which were wrangling in my mind\"\n",
    "print(\"\\nlength of the string: \\n\\n\" , len(s_text) , \"\\n\")"
   ]
  },
  {
   "cell_type": "code",
   "execution_count": 14,
   "metadata": {},
   "outputs": [],
   "source": [
    "#2. Lower the text in the string."
   ]
  },
  {
   "cell_type": "code",
   "execution_count": 42,
   "metadata": {},
   "outputs": [
    {
     "name": "stdout",
     "output_type": "stream",
     "text": [
      "\n",
      "Lower the text in the string: \n",
      "\n",
      "  i am very keen in building up my career in data science, but not sure from where to start. if i search the web it throws me thousands of articles, few are relevant others make me confused, again i come around to the same page. supervised has provided me a good platform to remove all such qualms which were wrangling in my mind \n",
      "\n"
     ]
    }
   ],
   "source": [
    "s_text_lower = s_text.lower()\n",
    "print(\"\\nLower the text in the string: \\n\\n\", s_text_lower , \"\\n\")"
   ]
  },
  {
   "cell_type": "code",
   "execution_count": 21,
   "metadata": {},
   "outputs": [],
   "source": [
    "#3. Try to get the clean text removing the punctuation from the string."
   ]
  },
  {
   "cell_type": "code",
   "execution_count": 3,
   "metadata": {},
   "outputs": [],
   "source": [
    "import string"
   ]
  },
  {
   "cell_type": "code",
   "execution_count": 41,
   "metadata": {},
   "outputs": [
    {
     "name": "stdout",
     "output_type": "stream",
     "text": [
      "\n",
      "Remove punctuation from the string : \n",
      "\n",
      "  I am very keen in building up my career in Data Science but not sure from where to start If I search the web it throws me thousands of articles few are relevant others make me confused again I come around to the same page Supervised has provided me a good platform to remove all such qualms which were wrangling in my mind \n",
      "\n"
     ]
    }
   ],
   "source": [
    "# Rake (Rapid Automatic Keyword Extraction) translator object\n",
    "translator = str.maketrans('','',string.punctuation)\n",
    "s_cleantext = s_text.translate(translator)\n",
    "\n",
    "print(\"\\nRemove punctuation from the string : \\n\\n\", s_cleantext, \"\\n\")"
   ]
  },
  {
   "cell_type": "code",
   "execution_count": 30,
   "metadata": {},
   "outputs": [],
   "source": [
    "#4. Extract word \"Data Science\" from the string."
   ]
  },
  {
   "cell_type": "code",
   "execution_count": 6,
   "metadata": {},
   "outputs": [],
   "source": [
    "# import regex\n",
    "import re"
   ]
  },
  {
   "cell_type": "code",
   "execution_count": 40,
   "metadata": {},
   "outputs": [
    {
     "name": "stdout",
     "output_type": "stream",
     "text": [
      "\n",
      "Extract 'Data Science' word from string : \n",
      "\n",
      " ['Data Science']\n"
     ]
    }
   ],
   "source": [
    "s_extractword = re.findall(\"Data Science\",s_cleantext)\n",
    "print(\"\\nExtract 'Data Science' word from string : \\n\\n\",s_extractword)"
   ]
  },
  {
   "cell_type": "code",
   "execution_count": 66,
   "metadata": {},
   "outputs": [],
   "source": [
    "#5. Find the frequency of words used in the string."
   ]
  },
  {
   "cell_type": "code",
   "execution_count": 44,
   "metadata": {},
   "outputs": [
    {
     "name": "stdout",
     "output_type": "stream",
     "text": [
      "\n",
      "Splitted words from String: \n",
      "\n",
      " ['I', 'am', 'very', 'keen', 'in', 'building', 'up', 'my', 'career', 'in', 'Data', 'Science', 'but', 'not', 'sure', 'from', 'where', 'to', 'start', 'If', 'I', 'search', 'the', 'web', 'it', 'throws', 'me', 'thousands', 'of', 'articles', 'few', 'are', 'relevant', 'others', 'make', 'me', 'confused', 'again', 'I', 'come', 'around', 'to', 'the', 'same', 'page', 'Supervised', 'has', 'provided', 'me', 'a', 'good', 'platform', 'to', 'remove', 'all', 'such', 'qualms', 'which', 'were', 'wrangling', 'in', 'my', 'mind']\n",
      "\n",
      "Frequency of words in string : \n",
      "\n",
      "I - 3\n",
      "am - 1\n",
      "very - 1\n",
      "keen - 1\n",
      "in - 3\n",
      "building - 1\n",
      "up - 1\n",
      "my - 2\n",
      "career - 1\n",
      "Data - 1\n",
      "Science - 1\n",
      "but - 1\n",
      "not - 1\n",
      "sure - 1\n",
      "from - 1\n",
      "where - 1\n",
      "to - 3\n",
      "start - 1\n",
      "If - 1\n",
      "search - 1\n",
      "the - 2\n",
      "web - 1\n",
      "it - 1\n",
      "throws - 1\n",
      "me - 3\n",
      "thousands - 1\n",
      "of - 1\n",
      "articles - 1\n",
      "few - 1\n",
      "are - 1\n",
      "relevant - 1\n",
      "others - 1\n",
      "make - 1\n",
      "confused - 1\n",
      "again - 1\n",
      "come - 1\n",
      "around - 1\n",
      "same - 1\n",
      "page - 1\n",
      "Supervised - 1\n",
      "has - 1\n",
      "provided - 1\n",
      "a - 1\n",
      "good - 1\n",
      "platform - 1\n",
      "remove - 1\n",
      "all - 1\n",
      "such - 1\n",
      "qualms - 1\n",
      "which - 1\n",
      "were - 1\n",
      "wrangling - 1\n",
      "mind - 1\n"
     ]
    }
   ],
   "source": [
    "## Method 1:\n",
    "\n",
    "s_splitwords = s_cleantext.split()\n",
    "print(\"\\nSplitted words from String: \\n\\n\",s_splitwords)\n",
    "\n",
    "word_counts = {}\n",
    "print(\"\\nFrequency of words in String : \\n\")\n",
    "for word in s_splitwords:\n",
    "    if word in word_counts:\n",
    "        word_counts[word] += 1\n",
    "    else:\n",
    "        word_counts[word] = 1\n",
    "for word in word_counts.keys():\n",
    "    if word_counts[word]>0:\n",
    "        \n",
    "        print(word,\"-\", word_counts[word])"
   ]
  },
  {
   "cell_type": "code",
   "execution_count": 38,
   "metadata": {},
   "outputs": [
    {
     "name": "stdout",
     "output_type": "stream",
     "text": [
      "\n",
      "Frequency of words in string: \n",
      "\n",
      "same - 1x\n",
      "but - 1x\n",
      "were - 1x\n",
      "start - 1x\n",
      "come - 1x\n",
      "platform - 1x\n",
      "all - 1x\n",
      "it - 1x\n",
      "others - 1x\n",
      "are - 2x\n",
      "qualms - 1x\n",
      "of - 1x\n",
      "Data - 1x\n",
      "has - 1x\n",
      "career - 1x\n",
      "web - 1x\n",
      "throws - 1x\n",
      "again - 1x\n",
      "relevant - 1x\n",
      "articles - 1x\n",
      "building - 1x\n",
      "good - 1x\n",
      "not - 1x\n",
      "Supervised - 1x\n",
      "up - 2x\n",
      "very - 1x\n",
      "Science - 1x\n",
      "keen - 1x\n",
      "where - 1x\n",
      "such - 1x\n",
      "a - 22x\n",
      "mind - 1x\n",
      "from - 1x\n",
      "thousands - 1x\n",
      "If - 1x\n",
      "around - 1x\n",
      "confused - 1x\n",
      "provided - 1x\n",
      "few - 1x\n",
      "remove - 1x\n",
      "in - 7x\n",
      "my - 2x\n",
      "me - 5x\n",
      "to - 3x\n",
      "search - 1x\n",
      "which - 1x\n",
      "sure - 1x\n",
      "am - 2x\n",
      "I - 4x\n",
      "page - 1x\n",
      "the - 3x\n",
      "make - 1x\n",
      "wrangling - 1x\n"
     ]
    }
   ],
   "source": [
    "## Method 2\n",
    "\n",
    "# split the sentence and make it a set to get the unique parts\n",
    "# then make it a list so you ca iterate\n",
    "\n",
    "s_freqwords = list(set(s_cleantext.split()))\n",
    "#print(s_freqwords)\n",
    "\n",
    "print(\"\\nFrequency of words in string: \\n\")\n",
    "for i in s_freqwords:\n",
    "    print(f'{i} - {s_cleantext.count(i)}x')"
   ]
  },
  {
   "cell_type": "code",
   "execution_count": 61,
   "metadata": {},
   "outputs": [],
   "source": [
    "#6. Find all the words which occurred more than once in the string."
   ]
  },
  {
   "cell_type": "code",
   "execution_count": 45,
   "metadata": {},
   "outputs": [
    {
     "name": "stdout",
     "output_type": "stream",
     "text": [
      "\n",
      "Splitted words from String: \n",
      "\n",
      " ['I', 'am', 'very', 'keen', 'in', 'building', 'up', 'my', 'career', 'in', 'Data', 'Science', 'but', 'not', 'sure', 'from', 'where', 'to', 'start', 'If', 'I', 'search', 'the', 'web', 'it', 'throws', 'me', 'thousands', 'of', 'articles', 'few', 'are', 'relevant', 'others', 'make', 'me', 'confused', 'again', 'I', 'come', 'around', 'to', 'the', 'same', 'page', 'Supervised', 'has', 'provided', 'me', 'a', 'good', 'platform', 'to', 'remove', 'all', 'such', 'qualms', 'which', 'were', 'wrangling', 'in', 'my', 'mind']\n",
      "\n",
      "Frequency of words occurred more than once: \n",
      "\n",
      "I 3\n",
      "in 3\n",
      "my 2\n",
      "to 3\n",
      "the 2\n",
      "me 3\n"
     ]
    }
   ],
   "source": [
    "s_splitwords = s_cleantext.split()\n",
    "print(\"\\nSplitted words from String: \\n\\n\",s_splitwords)\n",
    "\n",
    "word_counts = {}\n",
    "print(\"\\nFrequency of words occurred more than once: \\n\")\n",
    "\n",
    "for word in s_splitwords:\n",
    "    if word in word_counts:\n",
    "        word_counts[word] += 1\n",
    "    else:\n",
    "        word_counts[word] = 1\n",
    "for word in word_counts.keys():\n",
    "    if word_counts[word]>1:\n",
    "        print(word,word_counts[word])\n"
   ]
  },
  {
   "cell_type": "code",
   "execution_count": 79,
   "metadata": {},
   "outputs": [],
   "source": [
    "#7. Can you change the word \"Supervised\" to \"Unsupervised\" in the string"
   ]
  },
  {
   "cell_type": "code",
   "execution_count": 10,
   "metadata": {},
   "outputs": [
    {
     "name": "stdout",
     "output_type": "stream",
     "text": [
      " I am very keen in building up my career in Data Science, but not sure from where to start. If I search the web it throws me thousands of articles, few are relevant others make me confused, again I come around to the same page. Unsupervised has provided me a good platform to remove all such qualms which were wrangling in my mind\n"
     ]
    }
   ],
   "source": [
    "s_replaceword = s_text.replace(\"Supervised\",\"Unsupervised\")\n",
    "print(s_replaceword)"
   ]
  },
  {
   "cell_type": "code",
   "execution_count": 82,
   "metadata": {},
   "outputs": [],
   "source": [
    "#8. Splitting of the string with a dot operator(.)"
   ]
  },
  {
   "cell_type": "code",
   "execution_count": 37,
   "metadata": {},
   "outputs": [
    {
     "name": "stdout",
     "output_type": "stream",
     "text": [
      "\n",
      "Splitting of the string with a dot operator(.) : \n",
      "\n"
     ]
    },
    {
     "data": {
      "text/plain": [
       "[' I am very keen in building up my career in Data Science, but not sure from where to start',\n",
       " ' If I search the web it throws me thousands of articles, few are relevant others make me confused, again I come around to the same page',\n",
       " ' Supervised has provided me a good platform to remove all such qualms which were wrangling in my mind']"
      ]
     },
     "execution_count": 37,
     "metadata": {},
     "output_type": "execute_result"
    }
   ],
   "source": [
    "s_splitwithdot = s_text.split(\".\")\n",
    "print(\"\\nSplitting of the string with a dot operator(.) : \\n\")\n",
    "s_splitwithdot"
   ]
  },
  {
   "cell_type": "code",
   "execution_count": 91,
   "metadata": {},
   "outputs": [],
   "source": [
    "#9. Find the words from the string which ends with \"e\""
   ]
  },
  {
   "cell_type": "code",
   "execution_count": 47,
   "metadata": {},
   "outputs": [
    {
     "name": "stdout",
     "output_type": "stream",
     "text": [
      "\n",
      "Original Text: \n",
      "\n",
      "  I am very keen in building up my career in Data Science but not sure from where to start If I search the web it throws me thousands of articles few are relevant others make me confused again I come around to the same page Supervised has provided me a good platform to remove all such qualms which were wrangling in my mind\n",
      "\n",
      "Words ends with letter 'e': \n",
      "\n",
      " ['Science', 'sure', 'where', 'the', 'me', 'are', 'make', 'me', 'come', 'the', 'same', 'page', 'me', 'remove', 'were']\n"
     ]
    }
   ],
   "source": [
    "# Original text\n",
    "print(\"\\nOriginal Text: \\n\\n\",s_cleantext)\n",
    "\n",
    "# split words from text\n",
    "s_splitword = s_cleantext.split()\n",
    "\n",
    "# initializing check letter\n",
    "check = 'e'\n",
    "\n",
    "# using list comprehension + endswith() + lower() \n",
    "# Words ending with specific letter\n",
    "\n",
    "s_word_endswith_e = [word for word in s_splitword\n",
    "                        if word.lower().endswith(check.lower())]\n",
    "\n",
    "print(\"\\nWords ends with letter 'e': \\n\\n\",s_word_endswith_e)"
   ]
  },
  {
   "cell_type": "code",
   "execution_count": 46,
   "metadata": {},
   "outputs": [],
   "source": [
    "#10. Figure out number of a's used in the string."
   ]
  },
  {
   "cell_type": "code",
   "execution_count": 55,
   "metadata": {
    "scrolled": true
   },
   "outputs": [
    {
     "name": "stdout",
     "output_type": "stream",
     "text": [
      "\n",
      "Original text: \n",
      "\n",
      "  I am very keen in building up my career in Data Science, but not sure from where to start. If I search the web it throws me thousands of articles, few are relevant others make me confused, again I come around to the same page. Supervised has provided me a good platform to remove all such qualms which were wrangling in my mind\n",
      "\n",
      "Number of a's used in the string:  22\n"
     ]
    }
   ],
   "source": [
    "print(\"\\nOriginal text: \\n\\n\",s_text)\n",
    "\n",
    "print(\"\\nNumber of a's used in the string: \",s_text.count('a'))"
   ]
  },
  {
   "cell_type": "code",
   "execution_count": 53,
   "metadata": {},
   "outputs": [],
   "source": [
    "##****************************************************##\n",
    "## Questions on Dictionary\n",
    "##****************************************************##"
   ]
  },
  {
   "cell_type": "code",
   "execution_count": 56,
   "metadata": {},
   "outputs": [],
   "source": [
    "# In the weekend , I purchased 250g of apple, 500g of sugar, 2.5 kg of rice, 2.5 litres of milk and finally 1 dozen of egg.\n",
    "\n",
    "# 1. Can you help me frame the above purchase in the form of dictionary with commodities as keys to it.\n",
    "\n",
    "# 2. I forgot to mention another item, 1kg of atta packet. Can you also add it ?\n",
    "\n",
    "# 3. Instead of 2kg of rice, I bought only 1kg of rice. Can you change the corresponding value ?\n",
    "\n",
    "# 4. Can you list out all these items using a loop."
   ]
  },
  {
   "cell_type": "code",
   "execution_count": 57,
   "metadata": {},
   "outputs": [],
   "source": [
    "# 1. Can you help me frame the above purchase in the form of dictionary with commodities as keys to it."
   ]
  },
  {
   "cell_type": "code",
   "execution_count": 37,
   "metadata": {},
   "outputs": [
    {
     "name": "stdout",
     "output_type": "stream",
     "text": [
      "\n",
      "Dictionary with commodities as keys: \n",
      " {'apple': '250 g', 'sugar': '500 g', 'rice': '2.5 kg', 'milk': '2.5 lit', 'egg': '1 dozen'}\n"
     ]
    }
   ],
   "source": [
    "purchase_dict = {'apple':'250 g','sugar':'500 g','rice':'2.5 kg','milk':'2.5 lit','egg':'1 dozen'}\n",
    "print(\"\\nDictionary with commodities as keys: \\n\",purchase_dict)"
   ]
  },
  {
   "cell_type": "code",
   "execution_count": 59,
   "metadata": {},
   "outputs": [],
   "source": [
    "# 2. I forgot to mention another item, 1kg of atta packet. Can you also add it ?"
   ]
  },
  {
   "cell_type": "code",
   "execution_count": 38,
   "metadata": {},
   "outputs": [
    {
     "name": "stdout",
     "output_type": "stream",
     "text": [
      "\n",
      "Original Dictionary: \n",
      " {'apple': '250 g', 'sugar': '500 g', 'rice': '2.5 kg', 'milk': '2.5 lit', 'egg': '1 dozen'}\n",
      "\n",
      "New Key,Value pair added: \n",
      " {'apple': '250 g', 'sugar': '500 g', 'rice': '2.5 kg', 'milk': '2.5 lit', 'egg': '1 dozen', 'atta': '1 kg'}\n"
     ]
    }
   ],
   "source": [
    "# Method 1: Using Subscript notation\n",
    "\n",
    "# using the subscript notation  \n",
    "# Dictionary_Name[New_Key_Name] = New_Key_Value  \n",
    "print(\"\\nOriginal Dictionary: \\n\",purchase_dict)\n",
    "purchase_dict['atta'] = '1 kg'\n",
    "\n",
    "print(\"\\nNew Key,Value pair added: \\n\",purchase_dict)"
   ]
  },
  {
   "cell_type": "code",
   "execution_count": 39,
   "metadata": {},
   "outputs": [
    {
     "name": "stdout",
     "output_type": "stream",
     "text": [
      "\n",
      "Original Dictionary: \n",
      " {'apple': '250 g', 'sugar': '500 g', 'rice': '2.5 kg', 'milk': '2.5 lit', 'egg': '1 dozen', 'atta': '1 kg'}\n",
      "\n",
      "New Key,Value pair added: \n",
      " {'apple': '250 g', 'sugar': '500 g', 'rice': '2.5 kg', 'milk': '2.5 lit', 'egg': '1 dozen', 'atta': '1 kg'}\n"
     ]
    }
   ],
   "source": [
    "# Method 2 : Using update() method\n",
    "\n",
    "print(\"\\nOriginal Dictionary: \\n\",purchase_dict)\n",
    "new_value = {'atta' : '1 kg'}\n",
    "\n",
    "purchase_dict.update(new_value)\n",
    "\n",
    "print(\"\\nNew Key,Value pair added: \\n\",purchase_dict)\n"
   ]
  },
  {
   "cell_type": "code",
   "execution_count": 15,
   "metadata": {},
   "outputs": [],
   "source": [
    "# 3. Instead of 2kg of rice, I bought only 1kg of rice. Can you change the corresponding value ?"
   ]
  },
  {
   "cell_type": "code",
   "execution_count": 40,
   "metadata": {},
   "outputs": [
    {
     "name": "stdout",
     "output_type": "stream",
     "text": [
      "\n",
      "Original Dictionary: \n",
      " {'apple': '250 g', 'sugar': '500 g', 'rice': '2.5 kg', 'milk': '2.5 lit', 'egg': '1 dozen', 'atta': '1 kg'}\n",
      "\n",
      "Change value of key rice: \n",
      " {'apple': '250 g', 'sugar': '500 g', 'rice': '1 kg', 'milk': '2.5 lit', 'egg': '1 dozen', 'atta': '1 kg'}\n"
     ]
    }
   ],
   "source": [
    "\n",
    "print(\"\\nOriginal Dictionary: \\n\",purchase_dict)\n",
    "\n",
    "purchase_dict['rice'] = '1 kg'\n",
    "\n",
    "print(\"\\nChange value of key rice: \\n\",purchase_dict)"
   ]
  },
  {
   "cell_type": "code",
   "execution_count": 24,
   "metadata": {},
   "outputs": [],
   "source": [
    "# 4. Can you list out all these items using a loop."
   ]
  },
  {
   "cell_type": "code",
   "execution_count": 41,
   "metadata": {},
   "outputs": [
    {
     "name": "stdout",
     "output_type": "stream",
     "text": [
      "\n",
      "Key, Value pair of all items in dictionary: \n",
      "\n",
      "apple : 250 g \n",
      "\n",
      "sugar : 500 g \n",
      "\n",
      "rice : 1 kg \n",
      "\n",
      "milk : 2.5 lit \n",
      "\n",
      "egg : 1 dozen \n",
      "\n",
      "atta : 1 kg \n",
      "\n"
     ]
    }
   ],
   "source": [
    "print(\"\\nKey, Value pair of all items in dictionary: \\n\")\n",
    "      \n",
    "for key,value in purchase_dict.items():\n",
    "    print(key,\":\",value, \"\\n\")\n",
    "    "
   ]
  },
  {
   "cell_type": "code",
   "execution_count": 49,
   "metadata": {},
   "outputs": [],
   "source": [
    "# However, the cost of 1 kg apple is Rs.220, 1 kg of sugar is Rs.43, 1 Kg of rice is Rs. 45, 1 litre of milk is Rs.30 and 1 dozen of egg is Rs. 60.\n",
    "\n",
    "# Create another dictionary for pricing.\n",
    "\n",
    "# Thereby, prepare a bill for me of the overall cost of the total commodities purchased by using two dictionaries !"
   ]
  },
  {
   "cell_type": "code",
   "execution_count": 50,
   "metadata": {},
   "outputs": [],
   "source": [
    "# Create another dictionary for pricing."
   ]
  },
  {
   "cell_type": "code",
   "execution_count": 42,
   "metadata": {},
   "outputs": [
    {
     "name": "stdout",
     "output_type": "stream",
     "text": [
      "\n",
      "Pricing Dictionary: \n",
      " {'apple': 220, 'sugar': 43, 'rice': 45, 'milk': 30, 'egg': 60}\n"
     ]
    }
   ],
   "source": [
    "\n",
    "pricing_dict = {'apple': 220, 'sugar':43, 'rice':45, 'milk': 30, 'egg': 60}\n",
    "print(\"\\nPricing Dictionary: \\n\",pricing_dict)\n"
   ]
  },
  {
   "cell_type": "code",
   "execution_count": 53,
   "metadata": {},
   "outputs": [],
   "source": [
    "# Thereby, prepare a bill for me of the overall cost of the total commodities purchased by using two dictionaries !"
   ]
  },
  {
   "cell_type": "code",
   "execution_count": 49,
   "metadata": {},
   "outputs": [
    {
     "name": "stdout",
     "output_type": "stream",
     "text": [
      "\n",
      "Comodities Dictionary: \n",
      " {'apple': '250 g', 'sugar': '500 g', 'rice': '1 kg', 'milk': '2.5 lit', 'egg': '1 dozen', 'atta': '1 kg'}\n",
      "\n",
      "Pricing Dictionary: \n",
      " {'apple': 220, 'sugar': 43, 'rice': 45, 'milk': 30, 'egg': 60}\n",
      "{'apple': ['250', 'g'], 'sugar': ['500', 'g'], 'rice': ['1', 'kg'], 'milk': ['2.5', 'lit'], 'egg': ['1', 'dozen'], 'atta': ['1', 'kg']}\n"
     ]
    }
   ],
   "source": [
    "print(\"\\nComodities Dictionary: \\n\",purchase_dict)\n",
    "print(\"\\nPricing Dictionary: \\n\",pricing_dict)\n",
    "\n",
    "# for key in pricing_dict:\n",
    "#     if key in purchase_dict:\n",
    "#         pricing_dict[key] = pricing_dict[key] + purchase_dict[key]\n",
    "#     else:\n",
    "#         pass\n",
    "# print(pricing_dict)\n",
    "\n",
    "for key,value in purchase_dict.items():\n",
    "       purchase_dict[key] = value.split()\n",
    "print(purchase_dict)\n",
    "\n",
    "        \n",
    "        \n",
    "\n",
    "    "
   ]
  },
  {
   "cell_type": "code",
   "execution_count": 61,
   "metadata": {},
   "outputs": [],
   "source": [
    "## *************************************************##\n",
    "## Questions on List\n",
    "## *************************************************##"
   ]
  },
  {
   "cell_type": "code",
   "execution_count": 8,
   "metadata": {},
   "outputs": [],
   "source": [
    "# listed are the top AI companies in the world\n",
    "\n",
    "AI_Companies = ['Amazon','Facebook','HiSilicon','Google','Apple','Microsoft','SenseTime']\n"
   ]
  },
  {
   "cell_type": "code",
   "execution_count": 63,
   "metadata": {},
   "outputs": [],
   "source": [
    "# 1. Sort the list in ascending order\n",
    "\n",
    "# 2. Add multiple companies at once 'Nvidia', 'OpenAI' , 'Qualcomm' and 'Reliance' to the list\n",
    "\n",
    "# 3. Lower the list using List comprehension\n",
    "\n",
    "# 4. Elimiate 'Reliance' from the list\n",
    "\n",
    "#5. Extract 'Facebook', 'Google' and 'Microsoft' using a single command"
   ]
  },
  {
   "cell_type": "code",
   "execution_count": 64,
   "metadata": {},
   "outputs": [],
   "source": [
    "# 1. Sort the list in ascending order\n"
   ]
  },
  {
   "cell_type": "code",
   "execution_count": 9,
   "metadata": {},
   "outputs": [
    {
     "name": "stdout",
     "output_type": "stream",
     "text": [
      "\n",
      "Top AI Companies in the world in ascending order: \n",
      "\n",
      " ['Amazon', 'Apple', 'Facebook', 'Google', 'HiSilicon', 'Microsoft', 'SenseTime']\n"
     ]
    }
   ],
   "source": [
    "AI_Companies_sorted = sorted(AI_Companies)\n",
    "print(\"\\nTop AI Companies in the world in ascending order: \\n\\n\",AI_Companies_sorted)"
   ]
  },
  {
   "cell_type": "code",
   "execution_count": 72,
   "metadata": {},
   "outputs": [],
   "source": [
    "# 2. Add multiple companies at once 'Nvidia', 'OpenAI' , 'Qualcomm' and 'Reliance' to the list"
   ]
  },
  {
   "cell_type": "code",
   "execution_count": 10,
   "metadata": {},
   "outputs": [
    {
     "name": "stdout",
     "output_type": "stream",
     "text": [
      "\n",
      " Add more companies in list: \n",
      " ['Amazon', 'Facebook', 'HiSilicon', 'Google', 'Apple', 'Microsoft', 'SenseTime', 'Nvidia', 'OpenAI', 'Qualcomm', 'Reliance']\n"
     ]
    }
   ],
   "source": [
    "AI_Companies.extend(['Nvidia', 'OpenAI' , 'Qualcomm' , 'Reliance'])\n",
    "\n",
    "print(\"\\n Add more companies in list: \\n\", AI_Companies)"
   ]
  },
  {
   "cell_type": "code",
   "execution_count": 74,
   "metadata": {},
   "outputs": [],
   "source": [
    "# 3. Lower the list using List comprehension"
   ]
  },
  {
   "cell_type": "code",
   "execution_count": 11,
   "metadata": {},
   "outputs": [
    {
     "name": "stdout",
     "output_type": "stream",
     "text": [
      "['amazon', 'facebook', 'hisilicon', 'google', 'apple', 'microsoft', 'sensetime', 'nvidia', 'openai', 'qualcomm', 'reliance']\n"
     ]
    }
   ],
   "source": [
    "\n",
    "AI_Companies_Lower = [a.lower() for a in AI_Companies]\n",
    "print(AI_Companies_Lower)"
   ]
  },
  {
   "cell_type": "code",
   "execution_count": 6,
   "metadata": {},
   "outputs": [],
   "source": [
    "# 4. Elimiate 'Reliance' from the list"
   ]
  },
  {
   "cell_type": "code",
   "execution_count": 42,
   "metadata": {},
   "outputs": [
    {
     "name": "stdout",
     "output_type": "stream",
     "text": [
      "['Amazon', 'Facebook', 'HiSilicon', 'Google', 'Apple', 'Microsoft', 'SenseTime', 'Nvidia', 'OpenAI', 'Qualcomm', 'Reliance']\n",
      "\n",
      "Remove 'Reliance' from list: \n",
      " ['Amazon', 'Facebook', 'HiSilicon', 'Google', 'Apple', 'Microsoft', 'SenseTime', 'Nvidia', 'OpenAI', 'Qualcomm']\n"
     ]
    }
   ],
   "source": [
    "print(AI_Companies)\n",
    "\n",
    "AI_Companies.remove('Reliance')\n",
    "\n",
    "print(\"\\nRemove 'Reliance' from list: \\n\", AI_Companies)"
   ]
  },
  {
   "cell_type": "code",
   "execution_count": 16,
   "metadata": {},
   "outputs": [],
   "source": [
    "#5. Extract 'Facebook', 'Google' and 'Microsoft' using a single command"
   ]
  },
  {
   "cell_type": "code",
   "execution_count": 44,
   "metadata": {},
   "outputs": [
    {
     "name": "stdout",
     "output_type": "stream",
     "text": [
      "\n",
      "Extract 'Facebook', 'Google' and 'Microsoft' from list: \n",
      " ['Facebook', 'Google', 'Microsoft']\n"
     ]
    }
   ],
   "source": [
    "print(\"\\nExtract 'Facebook', 'Google' and 'Microsoft' from list: \\n\",AI_Companies[1:6:2])"
   ]
  },
  {
   "cell_type": "code",
   "execution_count": 45,
   "metadata": {},
   "outputs": [],
   "source": [
    "##******************************************##\n",
    "## Questions on Tuple\n",
    "##******************************************##"
   ]
  },
  {
   "cell_type": "code",
   "execution_count": 46,
   "metadata": {},
   "outputs": [],
   "source": [
    "# (a) Consider the above standard price problem statement and place the prices in the form of the tuple.\n",
    "\n",
    "# (b) Find out the min and max price among them.\n",
    "\n",
    "# (c) Also, convert the above \"AI_companies\" list to a tuple.\n",
    "\n",
    "# (d) Combine two above tuples to a single tuple.\n",
    "\n",
    "# (e) Compare the length of two tuples."
   ]
  },
  {
   "cell_type": "code",
   "execution_count": null,
   "metadata": {},
   "outputs": [],
   "source": [
    "# (a) Consider the above standard price problem statement and place the prices in the form of the tuple."
   ]
  },
  {
   "cell_type": "code",
   "execution_count": 12,
   "metadata": {},
   "outputs": [
    {
     "name": "stdout",
     "output_type": "stream",
     "text": [
      "\n",
      "Pricing Tuple: \n",
      " (220, 43, 45, 30, 60)\n"
     ]
    }
   ],
   "source": [
    "pricing_tuple = (220, 43, 45, 30, 60)\n",
    "print(\"\\nPricing Tuple: \\n\",pricing_tuple)"
   ]
  },
  {
   "cell_type": "code",
   "execution_count": 48,
   "metadata": {},
   "outputs": [],
   "source": [
    "# (b) Find out the min and max price among them."
   ]
  },
  {
   "cell_type": "code",
   "execution_count": 51,
   "metadata": {},
   "outputs": [
    {
     "name": "stdout",
     "output_type": "stream",
     "text": [
      "\n",
      "Max Price in Pricing Tuple:  220\n"
     ]
    }
   ],
   "source": [
    "print(\"\\nMax Price in Pricing Tuple: \",max(pricing_tuple))"
   ]
  },
  {
   "cell_type": "code",
   "execution_count": 52,
   "metadata": {},
   "outputs": [
    {
     "name": "stdout",
     "output_type": "stream",
     "text": [
      "\n",
      "Min Price in Pricing Tuple:  30\n"
     ]
    }
   ],
   "source": [
    "print(\"\\nMin Price in Pricing Tuple: \",min(pricing_tuple))"
   ]
  },
  {
   "cell_type": "code",
   "execution_count": 53,
   "metadata": {},
   "outputs": [],
   "source": [
    "# (c) Also, convert the above \"AI_companies\" list to a tuple."
   ]
  },
  {
   "cell_type": "code",
   "execution_count": 21,
   "metadata": {},
   "outputs": [
    {
     "name": "stdout",
     "output_type": "stream",
     "text": [
      "\n",
      " AI Companies in List: \n",
      " ['Amazon', 'Facebook', 'HiSilicon', 'Google', 'Apple', 'Microsoft', 'SenseTime', 'Nvidia', 'OpenAI', 'Qualcomm', 'Reliance']\n",
      "\n",
      " AI Companies in Tuple: \n",
      " ('Amazon', 'Facebook', 'HiSilicon', 'Google', 'Apple', 'Microsoft', 'SenseTime', 'Nvidia', 'OpenAI', 'Qualcomm', 'Reliance')\n"
     ]
    }
   ],
   "source": [
    "print(\"\\n AI Companies in List: \\n\",AI_Companies)\n",
    "\n",
    "AI_Companies_tuple = tuple(AI_Companies)\n",
    "\n",
    "print(\"\\n AI Companies in Tuple: \\n\",AI_Companies_tuple)"
   ]
  },
  {
   "cell_type": "code",
   "execution_count": 56,
   "metadata": {},
   "outputs": [],
   "source": [
    "# (d) Combine two above tuples to a single tuple."
   ]
  },
  {
   "cell_type": "code",
   "execution_count": 22,
   "metadata": {},
   "outputs": [
    {
     "name": "stdout",
     "output_type": "stream",
     "text": [
      "(220, 43, 45, 30, 60)\n",
      "('Amazon', 'Facebook', 'HiSilicon', 'Google', 'Apple', 'Microsoft', 'SenseTime', 'Nvidia', 'OpenAI', 'Qualcomm', 'Reliance')\n",
      "\n",
      "\n",
      "\n",
      "Combine to tuples: \n",
      " (220, 43, 45, 30, 60, 'Amazon', 'Facebook', 'HiSilicon', 'Google', 'Apple', 'Microsoft', 'SenseTime', 'Nvidia', 'OpenAI', 'Qualcomm', 'Reliance')\n"
     ]
    }
   ],
   "source": [
    "print(pricing_tuple)\n",
    "print(AI_Companies_tuple)\n",
    "\n",
    "print(\"\\n\")\n",
    "\n",
    "combine_tuple = (pricing_tuple + AI_Companies_tuple)\n",
    "print(\"\\nCombine to tuples: \\n\",combine_tuple)"
   ]
  },
  {
   "cell_type": "code",
   "execution_count": 60,
   "metadata": {},
   "outputs": [],
   "source": [
    "# (e) Compare the length of two tuples."
   ]
  },
  {
   "cell_type": "code",
   "execution_count": 30,
   "metadata": {},
   "outputs": [
    {
     "name": "stdout",
     "output_type": "stream",
     "text": [
      "\n",
      "Lenght of first tuple: 5\n",
      "Lenght of second tuple: 11\n",
      "\n",
      "Compare the length of two tuples: \n",
      "\n",
      "Length of pricing tuple is less than AI Companies tuple\n"
     ]
    }
   ],
   "source": [
    "print(\"\\nLenght of first tuple:\",len(pricing_tuple))\n",
    "print(\"Lenght of second tuple:\",len(AI_Companies_tuple))\n",
    "\n",
    "print(\"\\nCompare the length of two tuples: \\n\")\n",
    "\n",
    "if (len(pricing_tuple) > len(AI_Companies_tuple)) == True:\n",
    "    print(\"Length of pricing tuple is greater than AI Companies tuple\")\n",
    "elif (len(pricing_tuple) < len(AI_Companies_tuple)) == True:\n",
    "    print(\"Length of pricing tuple is less than AI Companies tuple\")\n",
    "else:\n",
    "    print(\"Length of pricing tuple is equal to AI Companies tuple\")"
   ]
  },
  {
   "cell_type": "code",
   "execution_count": null,
   "metadata": {},
   "outputs": [],
   "source": []
  }
 ],
 "metadata": {
  "kernelspec": {
   "display_name": "Python 3",
   "language": "python",
   "name": "python3"
  },
  "language_info": {
   "codemirror_mode": {
    "name": "ipython",
    "version": 3
   },
   "file_extension": ".py",
   "mimetype": "text/x-python",
   "name": "python",
   "nbconvert_exporter": "python",
   "pygments_lexer": "ipython3",
   "version": "3.7.4"
  }
 },
 "nbformat": 4,
 "nbformat_minor": 2
}
